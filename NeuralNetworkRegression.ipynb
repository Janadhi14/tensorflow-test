{
 "cells": [
  {
   "cell_type": "markdown",
   "metadata": {},
   "source": [
    "Introduction to regression with neural networks"
   ]
  },
  {
   "cell_type": "code",
   "execution_count": null,
   "metadata": {},
   "outputs": [],
   "source": []
  },
  {
   "cell_type": "code",
   "execution_count": 4,
   "metadata": {},
   "outputs": [
    {
     "name": "stdout",
     "output_type": "stream",
     "text": [
      "2.9.2\n"
     ]
    }
   ],
   "source": [
    "import matplotlib.pyplot as plt\n",
    "import tensorflow as tf \n",
    "import keras\n",
    "import numpy as np \n",
    "import sklearn as sk\n",
    "print(tf.__version__)"
   ]
  },
  {
   "cell_type": "markdown",
   "metadata": {},
   "source": [
    "what are regression problems?\n",
    "- this generally involves predicting numbers \n",
    "- generally predicting\n",
    "- in a neural network regression we are generally going to be modeling and predicting teh relationships bewteent eh dependent vaiables and independent variables (set number (data)) "
   ]
  },
  {
   "cell_type": "markdown",
   "metadata": {},
   "source": [
    "- we generally need inputs and outputs \n",
    "the input will be the independent variables that are known  \n",
    "we need to  encode the independent variabbles into a neumerically encoded tensor\n",
    "- often an algorithms that we feed the input data into is gnenrally already made \n"
   ]
  },
  {
   "cell_type": "code",
   "execution_count": 29,
   "metadata": {},
   "outputs": [
    {
     "data": {
      "text/plain": [
       "<matplotlib.collections.PathCollection at 0x29596ca90>"
      ]
     },
     "execution_count": 29,
     "metadata": {},
     "output_type": "execute_result"
    },
    {
     "data": {
      "image/png": "[encoded data removed]",
      "text/plain": [
       "<Figure size 432x288 with 1 Axes>"
      ]
     },
     "metadata": {
      "needs_background": "light"
     },
     "output_type": "display_data"
    }
   ],
   "source": [
    "# first we will create the featuers \n",
    "X = np.array([-7.0, - 4.0, -1.0, 2.0, 5.0, 8.0, 11.0, 14.0])\n",
    "# creating lables (dependent variables)\n",
    "y = np.array([3.0, 6.0, 9.0, 12.0, 15.0, 18.0, 21.0, 24.0])\n",
    "\n",
    "# visualisation of this data isiong a scatter plot\n",
    "plt.scatter(X,y)"
   ]
  },
  {
   "cell_type": "code",
   "execution_count": 30,
   "metadata": {},
   "outputs": [
    {
     "data": {
      "text/plain": [
       "(array([ 3.,  6.,  9., 12., 15., 18., 21., 24.]),\n",
       " array([ True,  True,  True,  True,  True,  True,  True,  True]))"
      ]
     },
     "execution_count": 30,
     "metadata": {},
     "output_type": "execute_result"
    }
   ],
   "source": [
    "# the relationship seen :\n",
    "X + 10, y== X+10"
   ]
  },
  {
   "cell_type": "markdown",
   "metadata": {},
   "source": [
    "input and output shapes of the model"
   ]
  },
  {
   "cell_type": "code",
   "execution_count": 31,
   "metadata": {},
   "outputs": [
    {
     "data": {
      "text/plain": [
       "(<tf.Tensor: shape=(3,), dtype=string, numpy=array([b'bedroom', b'bathroom', b'garage'], dtype=object)>,\n",
       " <tf.Tensor: shape=(1,), dtype=int32, numpy=array([939700], dtype=int32)>)"
      ]
     },
     "execution_count": 31,
     "metadata": {},
     "output_type": "execute_result"
    }
   ],
   "source": [
    "# lets create a demo tensor for out housing problem \n",
    "house_info = tf.constant([\"bedroom\", \"bathroom\", \"garage\"])\n",
    "house_price = tf.constant([939700])\n",
    "house_info, house_price"
   ]
  },
  {
   "cell_type": "markdown",
   "metadata": {},
   "source": [
    "notice the input shape is 3 and the output shape is 1 \n"
   ]
  },
  {
   "cell_type": "code",
   "execution_count": 32,
   "metadata": {},
   "outputs": [
    {
     "data": {
      "text/plain": [
       "((8,), (8,))"
      ]
     },
     "execution_count": 32,
     "metadata": {},
     "output_type": "execute_result"
    }
   ],
   "source": [
    "input_shape = X.shape\n",
    "output_shape = y.shape\n",
    "\n",
    "input_shape, output_shape \n",
    "# notice that the output is 8 and 8 because there are correlated with 8 differnet inputs "
   ]
  },
  {
   "cell_type": "code",
   "execution_count": 33,
   "metadata": {},
   "outputs": [
    {
     "data": {
      "text/plain": [
       "(-7.0, 3.0)"
      ]
     },
     "execution_count": 33,
     "metadata": {},
     "output_type": "execute_result"
    }
   ],
   "source": [
    "X[0], y[0]\n",
    "# notcie that we are using X 0 to preduct Y 0 \n",
    "#so we want to use one input feature to predct one output feature \n",
    "# we want to build a model that takes one X value to predicting one y value "
   ]
  },
  {
   "cell_type": "markdown",
   "metadata": {},
   "source": [
    "lets turn out numpy arrays into tensors\n"
   ]
  },
  {
   "cell_type": "code",
   "execution_count": 34,
   "metadata": {},
   "outputs": [
    {
     "data": {
      "text/plain": [
       "(<tf.Tensor: shape=(8,), dtype=float32, numpy=array([-7., -4., -1.,  2.,  5.,  8., 11., 14.], dtype=float32)>,\n",
       " <tf.Tensor: shape=(8,), dtype=float32, numpy=array([ 3.,  6.,  9., 12., 15., 18., 21., 24.], dtype=float32)>)"
      ]
     },
     "execution_count": 34,
     "metadata": {},
     "output_type": "execute_result"
    }
   ],
   "source": [
    "X = tf.cast(tf.constant(X), dtype = tf.float32)\n",
    "y = tf.cast(tf.constant(y), dtype = tf.float32)\n",
    "\n",
    "X, y\n",
    "\n"
   ]
  },
  {
   "cell_type": "code",
   "execution_count": 35,
   "metadata": {},
   "outputs": [
    {
     "data": {
      "text/plain": [
       "<matplotlib.collections.PathCollection at 0x29573fa60>"
      ]
     },
     "execution_count": 35,
     "metadata": {},
     "output_type": "execute_result"
    },
    {
     "data": {
      "image/png": "[encoded data removed]",
      "text/plain": [
       "<Figure size 432x288 with 1 Axes>"
      ]
     },
     "metadata": {
      "needs_background": "light"
     },
     "output_type": "display_data"
    }
   ],
   "source": [
    "plt.scatter(X,y)"
   ]
  },
  {
   "cell_type": "markdown",
   "metadata": {},
   "source": [
    "Steps in modeling \n",
    "- creating a model where we are defining the nput, output and hidden laters of a deep earning model \n",
    "- copiling  amodel and deifning the loss function(a function that tells out model how wrong out model is )\n",
    "- the optimizer(tells out model how to improve our pattern)\n",
    "- fitting a model- letting the model try and dind patterns between X and y (features and lables)\n",
    "\n"
   ]
  },
  {
   "cell_type": "code",
   "execution_count": 36,
   "metadata": {},
   "outputs": [
    {
     "name": "stdout",
     "output_type": "stream",
     "text": [
      "Epoch 1/5\n",
      "1/1 [==============================] - 0s 183ms/step - loss: 11.5048 - mae: 11.5048\n",
      "Epoch 2/5\n",
      "1/1 [==============================] - 0s 3ms/step - loss: 11.3723 - mae: 11.3723\n",
      "Epoch 3/5\n",
      "1/1 [==============================] - 0s 3ms/step - loss: 11.2398 - mae: 11.2398\n",
      "Epoch 4/5\n",
      "1/1 [==============================] - 0s 3ms/step - loss: 11.1073 - mae: 11.1073\n",
      "Epoch 5/5\n",
      "1/1 [==============================] - 0s 3ms/step - loss: 10.9748 - mae: 10.9748\n"
     ]
    },
    {
     "name": "stderr",
     "output_type": "stream",
     "text": [
      "2022-06-30 14:28:30.223525: I tensorflow/core/grappler/optimizers/custom_graph_optimizer_registry.cc:113] Plugin optimizer for device_type GPU is enabled.\n"
     ]
    }
   ],
   "source": [
    "# first we need to set the seed \n",
    "X = tf.cast(tf.constant(X), dtype = tf.float32)\n",
    "y = tf.cast(tf.constant(y), dtype = tf.float32)\n",
    "\n",
    "X, y\n",
    "\n",
    "tf.random.set_seed(42)\n",
    "# lets create a model using teh sequenctial API\n",
    "model= tf.keras.Sequential([ #groups a linear stack of layers into a tf.keras.Model.\n",
    "    tf.keras.layers.Dense(1)\n",
    "    ]) # this is basically saying that we want to generate a model from keras \n",
    "# now we want to compule the model \n",
    "model.compile(loss=tf.keras.losses.mae, # mae measn mean abouslue error, which is a measure of error between paired observations expressing the same phenomenon, compairson between preducted vs observed  )- \n",
    "               optimizer=tf.keras.optimizers.SGD(),\n",
    "               metrics=[\"mae\"])\n",
    "# now we want to fit the model \n",
    "with tf.device('/cpu:0'): model.fit(tf.expand_dims(X, axis=-1), y, epochs=5) # we need to use the with cup or the kernal will crash\n",
    "# epochs refers to the number of runs \n"
   ]
  },
  {
   "cell_type": "markdown",
   "metadata": {},
   "source": [
    "the tf.keras.losses.MAE function is beased on teh application of the loss function withwhich easure sthe mean (abs(y_true  -y_pred), axis = -1).\n",
    "we are calculating teh differnce bteween teh f=true value and the preducted value and getting the absoliuete value of themse 2 and generating a mean of that laong a specifc axis\n",
    "on average how wrong are our preductions \n",
    "SGD - this is stochastic gradient descent which is used to optimize, so that we are using stochastic approximation for gradient descent optimization and generates preductive vlues to fill in data "
   ]
  },
  {
   "cell_type": "markdown",
   "metadata": {},
   "source": [
    "there are multiple ways to add layers to our model in tensorflow\n",
    "we are able to use either:\n",
    "model = tf.keras.Sequential([\n",
    "    tf.keras.layers.Dense(1), \n",
    "])\n",
    "\n",
    "or we can use the term:\n",
    "model .add(tf.keras.layers.Dense(1)) where 1 is the number of layers "
   ]
  },
  {
   "cell_type": "code",
   "execution_count": 37,
   "metadata": {},
   "outputs": [
    {
     "name": "stdout",
     "output_type": "stream",
     "text": [
      "1/1 [==============================] - 0s 30ms/step\n"
     ]
    },
    {
     "name": "stderr",
     "output_type": "stream",
     "text": [
      "2022-06-30 14:28:30.344098: I tensorflow/core/grappler/optimizers/custom_graph_optimizer_registry.cc:113] Plugin optimizer for device_type GPU is enabled.\n"
     ]
    },
    {
     "data": {
      "text/plain": [
       "array([[12.716021]], dtype=float32)"
      ]
     },
     "execution_count": 37,
     "metadata": {},
     "output_type": "execute_result"
    }
   ],
   "source": [
    "# now we want to try and predict using using the model \n",
    "y_pred = model.predict([17.0])\n",
    "y_pred\n",
    "# our model realizes that there is a differnce of about + 11 in the y values so thus it is going to predict an addition of about 12 but this isnt quite accurate "
   ]
  },
  {
   "cell_type": "markdown",
   "metadata": {},
   "source": [
    "In order to improve the model we need to:\n",
    "- by adding more layers to the\n",
    "- within each of teh hidden laeer we can change the actiavtion function of each layer \n",
    "- we could change the ptimization function or the lernaing rate of the optimization function\n",
    "- when we are fitting the model we might increase the number of epochs which will allow the model to run more examples to learn from.\n"
   ]
  },
  {
   "cell_type": "markdown",
   "metadata": {},
   "source": [
    "In tensorflow ther ear e2 differnet models we are able to use for generating predictions\n",
    "- the smaller models use the SGD where as the larger models have more layers \n",
    "- the number of neurons in each layer is increased in larger models \n",
    "- larger models also use the Adam optimizer with an lr (learning rate) the higher the learning rate the more that the optimizer is pushig the model to learn, the lower the learning rate, teh smaller the steps the optimizer tells the model to take to improve \n",
    "- there is also a differnce in the subset in the smaller model but in the larger model uses X_train_full and y_train_full\n"
   ]
  },
  {
   "cell_type": "code",
   "execution_count": 38,
   "metadata": {},
   "outputs": [
    {
     "name": "stdout",
     "output_type": "stream",
     "text": [
      "Epoch 1/100\n"
     ]
    },
    {
     "name": "stderr",
     "output_type": "stream",
     "text": [
      "2022-06-30 14:28:30.534899: I tensorflow/core/grappler/optimizers/custom_graph_optimizer_registry.cc:113] Plugin optimizer for device_type GPU is enabled.\n"
     ]
    },
    {
     "name": "stdout",
     "output_type": "stream",
     "text": [
      "1/1 [==============================] - 0s 143ms/step - loss: 11.5048 - mae: 11.5048\n",
      "Epoch 2/100\n",
      "1/1 [==============================] - 0s 3ms/step - loss: 11.3723 - mae: 11.3723\n",
      "Epoch 3/100\n",
      "1/1 [==============================] - 0s 3ms/step - loss: 11.2398 - mae: 11.2398\n",
      "Epoch 4/100\n",
      "1/1 [==============================] - 0s 4ms/step - loss: 11.1073 - mae: 11.1073\n",
      "Epoch 5/100\n",
      "1/1 [==============================] - 0s 3ms/step - loss: 10.9748 - mae: 10.9748\n",
      "Epoch 6/100\n",
      "1/1 [==============================] - 0s 4ms/step - loss: 10.8423 - mae: 10.8423\n",
      "Epoch 7/100\n",
      "1/1 [==============================] - 0s 3ms/step - loss: 10.7098 - mae: 10.7098\n",
      "Epoch 8/100\n",
      "1/1 [==============================] - 0s 3ms/step - loss: 10.5773 - mae: 10.5773\n",
      "Epoch 9/100\n",
      "1/1 [==============================] - 0s 3ms/step - loss: 10.4448 - mae: 10.4448\n",
      "Epoch 10/100\n",
      "1/1 [==============================] - 0s 4ms/step - loss: 10.3123 - mae: 10.3123\n",
      "Epoch 11/100\n",
      "1/1 [==============================] - 0s 3ms/step - loss: 10.1798 - mae: 10.1798\n",
      "Epoch 12/100\n",
      "1/1 [==============================] - 0s 3ms/step - loss: 10.0473 - mae: 10.0473\n",
      "Epoch 13/100\n",
      "1/1 [==============================] - 0s 3ms/step - loss: 9.9148 - mae: 9.9148\n",
      "Epoch 14/100\n",
      "1/1 [==============================] - 0s 3ms/step - loss: 9.7823 - mae: 9.7823\n",
      "Epoch 15/100\n",
      "1/1 [==============================] - 0s 3ms/step - loss: 9.6498 - mae: 9.6498\n",
      "Epoch 16/100\n",
      "1/1 [==============================] - 0s 3ms/step - loss: 9.5173 - mae: 9.5173\n",
      "Epoch 17/100\n",
      "1/1 [==============================] - 0s 3ms/step - loss: 9.3848 - mae: 9.3848\n",
      "Epoch 18/100\n",
      "1/1 [==============================] - 0s 3ms/step - loss: 9.2523 - mae: 9.2523\n",
      "Epoch 19/100\n",
      "1/1 [==============================] - 0s 3ms/step - loss: 9.1198 - mae: 9.1198\n",
      "Epoch 20/100\n",
      "1/1 [==============================] - 0s 3ms/step - loss: 8.9873 - mae: 8.9873\n",
      "Epoch 21/100\n",
      "1/1 [==============================] - 0s 3ms/step - loss: 8.8548 - mae: 8.8548\n",
      "Epoch 22/100\n",
      "1/1 [==============================] - 0s 3ms/step - loss: 8.7223 - mae: 8.7223\n",
      "Epoch 23/100\n",
      "1/1 [==============================] - 0s 3ms/step - loss: 8.5898 - mae: 8.5898\n",
      "Epoch 24/100\n",
      "1/1 [==============================] - 0s 4ms/step - loss: 8.4573 - mae: 8.4573\n",
      "Epoch 25/100\n",
      "1/1 [==============================] - 0s 4ms/step - loss: 8.3248 - mae: 8.3248\n",
      "Epoch 26/100\n",
      "1/1 [==============================] - 0s 3ms/step - loss: 8.1923 - mae: 8.1923\n",
      "Epoch 27/100\n",
      "1/1 [==============================] - 0s 3ms/step - loss: 8.0598 - mae: 8.0598\n",
      "Epoch 28/100\n",
      "1/1 [==============================] - 0s 3ms/step - loss: 7.9273 - mae: 7.9273\n",
      "Epoch 29/100\n",
      "1/1 [==============================] - 0s 4ms/step - loss: 7.7948 - mae: 7.7948\n",
      "Epoch 30/100\n",
      "1/1 [==============================] - 0s 3ms/step - loss: 7.6623 - mae: 7.6623\n",
      "Epoch 31/100\n",
      "1/1 [==============================] - 0s 3ms/step - loss: 7.5298 - mae: 7.5298\n",
      "Epoch 32/100\n",
      "1/1 [==============================] - 0s 4ms/step - loss: 7.3973 - mae: 7.3973\n",
      "Epoch 33/100\n",
      "1/1 [==============================] - 0s 14ms/step - loss: 7.2648 - mae: 7.2648\n",
      "Epoch 34/100\n",
      "1/1 [==============================] - 0s 3ms/step - loss: 7.2525 - mae: 7.2525\n",
      "Epoch 35/100\n",
      "1/1 [==============================] - 0s 3ms/step - loss: 7.2469 - mae: 7.2469\n",
      "Epoch 36/100\n",
      "1/1 [==============================] - 0s 3ms/step - loss: 7.2413 - mae: 7.2413\n",
      "Epoch 37/100\n",
      "1/1 [==============================] - 0s 3ms/step - loss: 7.2356 - mae: 7.2356\n",
      "Epoch 38/100\n",
      "1/1 [==============================] - 0s 3ms/step - loss: 7.2300 - mae: 7.2300\n",
      "Epoch 39/100\n",
      "1/1 [==============================] - 0s 3ms/step - loss: 7.2244 - mae: 7.2244\n",
      "Epoch 40/100\n",
      "1/1 [==============================] - 0s 3ms/step - loss: 7.2188 - mae: 7.2188\n",
      "Epoch 41/100\n",
      "1/1 [==============================] - 0s 3ms/step - loss: 7.2131 - mae: 7.2131\n",
      "Epoch 42/100\n",
      "1/1 [==============================] - 0s 3ms/step - loss: 7.2075 - mae: 7.2075\n",
      "Epoch 43/100\n",
      "1/1 [==============================] - 0s 3ms/step - loss: 7.2019 - mae: 7.2019\n",
      "Epoch 44/100\n",
      "1/1 [==============================] - 0s 4ms/step - loss: 7.1963 - mae: 7.1963\n",
      "Epoch 45/100\n",
      "1/1 [==============================] - 0s 3ms/step - loss: 7.1906 - mae: 7.1906\n",
      "Epoch 46/100\n",
      "1/1 [==============================] - 0s 3ms/step - loss: 7.1850 - mae: 7.1850\n",
      "Epoch 47/100\n",
      "1/1 [==============================] - 0s 3ms/step - loss: 7.1794 - mae: 7.1794\n",
      "Epoch 48/100\n",
      "1/1 [==============================] - 0s 3ms/step - loss: 7.1738 - mae: 7.1738\n",
      "Epoch 49/100\n",
      "1/1 [==============================] - 0s 3ms/step - loss: 7.1681 - mae: 7.1681\n",
      "Epoch 50/100\n",
      "1/1 [==============================] - 0s 3ms/step - loss: 7.1625 - mae: 7.1625\n",
      "Epoch 51/100\n",
      "1/1 [==============================] - 0s 3ms/step - loss: 7.1569 - mae: 7.1569\n",
      "Epoch 52/100\n",
      "1/1 [==============================] - 0s 3ms/step - loss: 7.1512 - mae: 7.1512\n",
      "Epoch 53/100\n",
      "1/1 [==============================] - 0s 3ms/step - loss: 7.1456 - mae: 7.1456\n",
      "Epoch 54/100\n",
      "1/1 [==============================] - 0s 3ms/step - loss: 7.1400 - mae: 7.1400\n",
      "Epoch 55/100\n",
      "1/1 [==============================] - 0s 3ms/step - loss: 7.1344 - mae: 7.1344\n",
      "Epoch 56/100\n",
      "1/1 [==============================] - 0s 4ms/step - loss: 7.1287 - mae: 7.1287\n",
      "Epoch 57/100\n",
      "1/1 [==============================] - 0s 3ms/step - loss: 7.1231 - mae: 7.1231\n",
      "Epoch 58/100\n",
      "1/1 [==============================] - 0s 3ms/step - loss: 7.1175 - mae: 7.1175\n",
      "Epoch 59/100\n",
      "1/1 [==============================] - 0s 3ms/step - loss: 7.1119 - mae: 7.1119\n",
      "Epoch 60/100\n",
      "1/1 [==============================] - 0s 3ms/step - loss: 7.1063 - mae: 7.1063\n",
      "Epoch 61/100\n",
      "1/1 [==============================] - 0s 3ms/step - loss: 7.1006 - mae: 7.1006\n",
      "Epoch 62/100\n",
      "1/1 [==============================] - 0s 3ms/step - loss: 7.0950 - mae: 7.0950\n",
      "Epoch 63/100\n",
      "1/1 [==============================] - 0s 3ms/step - loss: 7.0894 - mae: 7.0894\n",
      "Epoch 64/100\n",
      "1/1 [==============================] - 0s 3ms/step - loss: 7.0837 - mae: 7.0837\n",
      "Epoch 65/100\n",
      "1/1 [==============================] - 0s 3ms/step - loss: 7.0781 - mae: 7.0781\n",
      "Epoch 66/100\n",
      "1/1 [==============================] - 0s 3ms/step - loss: 7.0725 - mae: 7.0725\n",
      "Epoch 67/100\n",
      "1/1 [==============================] - 0s 3ms/step - loss: 7.0669 - mae: 7.0669\n",
      "Epoch 68/100\n",
      "1/1 [==============================] - 0s 3ms/step - loss: 7.0613 - mae: 7.0613\n",
      "Epoch 69/100\n",
      "1/1 [==============================] - 0s 3ms/step - loss: 7.0556 - mae: 7.0556\n",
      "Epoch 70/100\n",
      "1/1 [==============================] - 0s 3ms/step - loss: 7.0500 - mae: 7.0500\n",
      "Epoch 71/100\n",
      "1/1 [==============================] - 0s 3ms/step - loss: 7.0444 - mae: 7.0444\n",
      "Epoch 72/100\n",
      "1/1 [==============================] - 0s 3ms/step - loss: 7.0388 - mae: 7.0388\n",
      "Epoch 73/100\n",
      "1/1 [==============================] - 0s 3ms/step - loss: 7.0331 - mae: 7.0331\n",
      "Epoch 74/100\n",
      "1/1 [==============================] - 0s 3ms/step - loss: 7.0275 - mae: 7.0275\n",
      "Epoch 75/100\n",
      "1/1 [==============================] - 0s 3ms/step - loss: 7.0219 - mae: 7.0219\n",
      "Epoch 76/100\n",
      "1/1 [==============================] - 0s 3ms/step - loss: 7.0163 - mae: 7.0163\n",
      "Epoch 77/100\n",
      "1/1 [==============================] - 0s 3ms/step - loss: 7.0106 - mae: 7.0106\n",
      "Epoch 78/100\n",
      "1/1 [==============================] - 0s 3ms/step - loss: 7.0050 - mae: 7.0050\n",
      "Epoch 79/100\n",
      "1/1 [==============================] - 0s 3ms/step - loss: 6.9994 - mae: 6.9994\n",
      "Epoch 80/100\n",
      "1/1 [==============================] - 0s 3ms/step - loss: 6.9938 - mae: 6.9938\n",
      "Epoch 81/100\n",
      "1/1 [==============================] - 0s 3ms/step - loss: 6.9881 - mae: 6.9881\n",
      "Epoch 82/100\n",
      "1/1 [==============================] - 0s 3ms/step - loss: 6.9825 - mae: 6.9825\n",
      "Epoch 83/100\n",
      "1/1 [==============================] - 0s 4ms/step - loss: 6.9769 - mae: 6.9769\n",
      "Epoch 84/100\n",
      "1/1 [==============================] - 0s 3ms/step - loss: 6.9713 - mae: 6.9713\n",
      "Epoch 85/100\n",
      "1/1 [==============================] - 0s 3ms/step - loss: 6.9656 - mae: 6.9656\n",
      "Epoch 86/100\n",
      "1/1 [==============================] - 0s 3ms/step - loss: 6.9600 - mae: 6.9600\n",
      "Epoch 87/100\n",
      "1/1 [==============================] - 0s 3ms/step - loss: 6.9544 - mae: 6.9544\n",
      "Epoch 88/100\n",
      "1/1 [==============================] - 0s 3ms/step - loss: 6.9488 - mae: 6.9488\n",
      "Epoch 89/100\n",
      "1/1 [==============================] - 0s 3ms/step - loss: 6.9431 - mae: 6.9431\n",
      "Epoch 90/100\n",
      "1/1 [==============================] - 0s 3ms/step - loss: 6.9375 - mae: 6.9375\n",
      "Epoch 91/100\n",
      "1/1 [==============================] - 0s 3ms/step - loss: 6.9319 - mae: 6.9319\n",
      "Epoch 92/100\n",
      "1/1 [==============================] - 0s 3ms/step - loss: 6.9263 - mae: 6.9263\n",
      "Epoch 93/100\n",
      "1/1 [==============================] - 0s 3ms/step - loss: 6.9206 - mae: 6.9206\n",
      "Epoch 94/100\n",
      "1/1 [==============================] - 0s 3ms/step - loss: 6.9150 - mae: 6.9150\n",
      "Epoch 95/100\n",
      "1/1 [==============================] - 0s 3ms/step - loss: 6.9094 - mae: 6.9094\n",
      "Epoch 96/100\n",
      "1/1 [==============================] - 0s 11ms/step - loss: 6.9038 - mae: 6.9038\n",
      "Epoch 97/100\n",
      "1/1 [==============================] - 0s 4ms/step - loss: 6.8981 - mae: 6.8981\n",
      "Epoch 98/100\n",
      "1/1 [==============================] - 0s 3ms/step - loss: 6.8925 - mae: 6.8925\n",
      "Epoch 99/100\n",
      "1/1 [==============================] - 0s 3ms/step - loss: 6.8869 - mae: 6.8869\n",
      "Epoch 100/100\n",
      "1/1 [==============================] - 0s 4ms/step - loss: 6.8813 - mae: 6.8813\n"
     ]
    }
   ],
   "source": [
    "# lets see if we can increase our current model by increaseing teh epochs to 100 \n",
    "tf.random.set_seed(42)\n",
    "# lets create a model using teh sequenctial API\n",
    "model= tf.keras.Sequential([ #groups a linear stack of layers into a tf.keras.Model.\n",
    "    tf.keras.layers.Dense(1)\n",
    "    ]) # this is basically saying that we want to generate a model from keras \n",
    "# now we want to compule the model \n",
    "model.compile(loss=tf.keras.losses.mae, # mae measn mean abouslue error, which is a measure of error between paired observations expressing the same phenomenon, compairson between preducted vs observed  )- \n",
    "               optimizer=tf.keras.optimizers.SGD(),\n",
    "               metrics=[\"mae\"])\n",
    "# now we want to fit the model \n",
    "with tf.device('/cpu:0'): model.fit(tf.expand_dims(X, axis=-1), y, epochs=100) # we need to use the with cup or the kernal will crash\n",
    "# epochs refers to the number of runs "
   ]
  },
  {
   "cell_type": "code",
   "execution_count": 39,
   "metadata": {},
   "outputs": [
    {
     "data": {
      "text/plain": [
       "(<tf.Tensor: shape=(8,), dtype=float32, numpy=array([-7., -4., -1.,  2.,  5.,  8., 11., 14.], dtype=float32)>,\n",
       " <tf.Tensor: shape=(8,), dtype=float32, numpy=array([ 3.,  6.,  9., 12., 15., 18., 21., 24.], dtype=float32)>)"
      ]
     },
     "execution_count": 39,
     "metadata": {},
     "output_type": "execute_result"
    }
   ],
   "source": [
    "X ,y"
   ]
  },
  {
   "cell_type": "code",
   "execution_count": 40,
   "metadata": {},
   "outputs": [
    {
     "name": "stdout",
     "output_type": "stream",
     "text": [
      "1/1 [==============================] - 0s 30ms/step\n"
     ]
    },
    {
     "name": "stderr",
     "output_type": "stream",
     "text": [
      "2022-06-30 14:28:31.142259: I tensorflow/core/grappler/optimizers/custom_graph_optimizer_registry.cc:113] Plugin optimizer for device_type GPU is enabled.\n"
     ]
    },
    {
     "data": {
      "text/plain": [
       "array([[30.158512]], dtype=float32)"
      ]
     },
     "execution_count": 40,
     "metadata": {},
     "output_type": "execute_result"
    }
   ],
   "source": [
    "# now lets predict again to see if the prediction has improved \n",
    "model.predict([17.0])"
   ]
  },
  {
   "cell_type": "markdown",
   "metadata": {},
   "source": [
    "now lets try and reqrite the code so that we are going to optimize with the addition of more code that will help improve the accuracy of the preduction\n",
    "- lets try and add another layer  "
   ]
  },
  {
   "cell_type": "code",
   "execution_count": 41,
   "metadata": {},
   "outputs": [
    {
     "name": "stdout",
     "output_type": "stream",
     "text": [
      "Epoch 1/100\n"
     ]
    },
    {
     "name": "stderr",
     "output_type": "stream",
     "text": [
      "2022-06-30 14:28:31.326475: I tensorflow/core/grappler/optimizers/custom_graph_optimizer_registry.cc:113] Plugin optimizer for device_type GPU is enabled.\n"
     ]
    },
    {
     "name": "stdout",
     "output_type": "stream",
     "text": [
      "1/1 [==============================] - 0s 142ms/step - loss: 12.9775 - mae: 12.9775\n",
      "Epoch 2/100\n",
      "1/1 [==============================] - 0s 3ms/step - loss: 12.9112 - mae: 12.9112\n",
      "Epoch 3/100\n",
      "1/1 [==============================] - 0s 3ms/step - loss: 12.8450 - mae: 12.8450\n",
      "Epoch 4/100\n",
      "1/1 [==============================] - 0s 3ms/step - loss: 12.7787 - mae: 12.7787\n",
      "Epoch 5/100\n",
      "1/1 [==============================] - 0s 3ms/step - loss: 12.7125 - mae: 12.7125\n",
      "Epoch 6/100\n",
      "1/1 [==============================] - 0s 3ms/step - loss: 12.6462 - mae: 12.6462\n",
      "Epoch 7/100\n",
      "1/1 [==============================] - 0s 3ms/step - loss: 12.5800 - mae: 12.5800\n",
      "Epoch 8/100\n",
      "1/1 [==============================] - 0s 3ms/step - loss: 12.5137 - mae: 12.5137\n",
      "Epoch 9/100\n",
      "1/1 [==============================] - 0s 3ms/step - loss: 12.4475 - mae: 12.4475\n",
      "Epoch 10/100\n",
      "1/1 [==============================] - 0s 3ms/step - loss: 12.3812 - mae: 12.3812\n",
      "Epoch 11/100\n",
      "1/1 [==============================] - 0s 3ms/step - loss: 12.3150 - mae: 12.3150\n",
      "Epoch 12/100\n",
      "1/1 [==============================] - 0s 3ms/step - loss: 12.2487 - mae: 12.2487\n",
      "Epoch 13/100\n",
      "1/1 [==============================] - 0s 3ms/step - loss: 12.1825 - mae: 12.1825\n",
      "Epoch 14/100\n",
      "1/1 [==============================] - 0s 3ms/step - loss: 12.1162 - mae: 12.1162\n",
      "Epoch 15/100\n",
      "1/1 [==============================] - 0s 3ms/step - loss: 12.0500 - mae: 12.0500\n",
      "Epoch 16/100\n",
      "1/1 [==============================] - 0s 3ms/step - loss: 11.9837 - mae: 11.9837\n",
      "Epoch 17/100\n",
      "1/1 [==============================] - 0s 3ms/step - loss: 11.9175 - mae: 11.9175\n",
      "Epoch 18/100\n",
      "1/1 [==============================] - 0s 3ms/step - loss: 11.8512 - mae: 11.8512\n",
      "Epoch 19/100\n",
      "1/1 [==============================] - 0s 3ms/step - loss: 11.7850 - mae: 11.7850\n",
      "Epoch 20/100\n",
      "1/1 [==============================] - 0s 3ms/step - loss: 11.7187 - mae: 11.7187\n",
      "Epoch 21/100\n",
      "1/1 [==============================] - 0s 3ms/step - loss: 11.6525 - mae: 11.6525\n",
      "Epoch 22/100\n",
      "1/1 [==============================] - 0s 3ms/step - loss: 11.5862 - mae: 11.5862\n",
      "Epoch 23/100\n",
      "1/1 [==============================] - 0s 3ms/step - loss: 11.5200 - mae: 11.5200\n",
      "Epoch 24/100\n",
      "1/1 [==============================] - 0s 3ms/step - loss: 11.4537 - mae: 11.4537\n",
      "Epoch 25/100\n",
      "1/1 [==============================] - 0s 10ms/step - loss: 11.3875 - mae: 11.3875\n",
      "Epoch 26/100\n",
      "1/1 [==============================] - 0s 4ms/step - loss: 11.3212 - mae: 11.3212\n",
      "Epoch 27/100\n",
      "1/1 [==============================] - 0s 3ms/step - loss: 11.2550 - mae: 11.2550\n",
      "Epoch 28/100\n",
      "1/1 [==============================] - 0s 3ms/step - loss: 11.1887 - mae: 11.1887\n",
      "Epoch 29/100\n",
      "1/1 [==============================] - 0s 3ms/step - loss: 11.1225 - mae: 11.1225\n",
      "Epoch 30/100\n",
      "1/1 [==============================] - 0s 4ms/step - loss: 11.0562 - mae: 11.0562\n",
      "Epoch 31/100\n",
      "1/1 [==============================] - 0s 3ms/step - loss: 10.9900 - mae: 10.9900\n",
      "Epoch 32/100\n",
      "1/1 [==============================] - 0s 3ms/step - loss: 10.9237 - mae: 10.9237\n",
      "Epoch 33/100\n",
      "1/1 [==============================] - 0s 4ms/step - loss: 10.8575 - mae: 10.8575\n",
      "Epoch 34/100\n",
      "1/1 [==============================] - 0s 3ms/step - loss: 10.7912 - mae: 10.7912\n",
      "Epoch 35/100\n",
      "1/1 [==============================] - 0s 3ms/step - loss: 10.7250 - mae: 10.7250\n",
      "Epoch 36/100\n",
      "1/1 [==============================] - 0s 3ms/step - loss: 10.6587 - mae: 10.6587\n",
      "Epoch 37/100\n",
      "1/1 [==============================] - 0s 3ms/step - loss: 10.5925 - mae: 10.5925\n",
      "Epoch 38/100\n",
      "1/1 [==============================] - 0s 3ms/step - loss: 10.5262 - mae: 10.5262\n",
      "Epoch 39/100\n",
      "1/1 [==============================] - 0s 3ms/step - loss: 10.4600 - mae: 10.4600\n",
      "Epoch 40/100\n",
      "1/1 [==============================] - 0s 3ms/step - loss: 10.3937 - mae: 10.3937\n",
      "Epoch 41/100\n",
      "1/1 [==============================] - 0s 3ms/step - loss: 10.3275 - mae: 10.3275\n",
      "Epoch 42/100\n",
      "1/1 [==============================] - 0s 3ms/step - loss: 10.2612 - mae: 10.2612\n",
      "Epoch 43/100\n",
      "1/1 [==============================] - 0s 3ms/step - loss: 10.1950 - mae: 10.1950\n",
      "Epoch 44/100\n",
      "1/1 [==============================] - 0s 3ms/step - loss: 10.1287 - mae: 10.1287\n",
      "Epoch 45/100\n",
      "1/1 [==============================] - 0s 3ms/step - loss: 10.0625 - mae: 10.0625\n",
      "Epoch 46/100\n",
      "1/1 [==============================] - 0s 3ms/step - loss: 9.9962 - mae: 9.9962\n",
      "Epoch 47/100\n",
      "1/1 [==============================] - 0s 3ms/step - loss: 9.9300 - mae: 9.9300\n",
      "Epoch 48/100\n",
      "1/1 [==============================] - 0s 4ms/step - loss: 9.8637 - mae: 9.8637\n",
      "Epoch 49/100\n",
      "1/1 [==============================] - 0s 3ms/step - loss: 9.7975 - mae: 9.7975\n",
      "Epoch 50/100\n",
      "1/1 [==============================] - 0s 3ms/step - loss: 9.7312 - mae: 9.7312\n",
      "Epoch 51/100\n",
      "1/1 [==============================] - 0s 3ms/step - loss: 9.6650 - mae: 9.6650\n",
      "Epoch 52/100\n",
      "1/1 [==============================] - 0s 3ms/step - loss: 9.5987 - mae: 9.5987\n",
      "Epoch 53/100\n",
      "1/1 [==============================] - 0s 3ms/step - loss: 9.5325 - mae: 9.5325\n",
      "Epoch 54/100\n",
      "1/1 [==============================] - 0s 3ms/step - loss: 9.4662 - mae: 9.4662\n",
      "Epoch 55/100\n",
      "1/1 [==============================] - 0s 3ms/step - loss: 9.4000 - mae: 9.4000\n",
      "Epoch 56/100\n",
      "1/1 [==============================] - 0s 3ms/step - loss: 9.3337 - mae: 9.3337\n",
      "Epoch 57/100\n",
      "1/1 [==============================] - 0s 3ms/step - loss: 9.2675 - mae: 9.2675\n",
      "Epoch 58/100\n",
      "1/1 [==============================] - 0s 3ms/step - loss: 9.2012 - mae: 9.2012\n",
      "Epoch 59/100\n",
      "1/1 [==============================] - 0s 3ms/step - loss: 9.1350 - mae: 9.1350\n",
      "Epoch 60/100\n",
      "1/1 [==============================] - 0s 4ms/step - loss: 9.0687 - mae: 9.0687\n",
      "Epoch 61/100\n",
      "1/1 [==============================] - 0s 3ms/step - loss: 9.0025 - mae: 9.0025\n",
      "Epoch 62/100\n",
      "1/1 [==============================] - 0s 3ms/step - loss: 8.9362 - mae: 8.9362\n",
      "Epoch 63/100\n",
      "1/1 [==============================] - 0s 3ms/step - loss: 8.8700 - mae: 8.8700\n",
      "Epoch 64/100\n",
      "1/1 [==============================] - 0s 3ms/step - loss: 8.8037 - mae: 8.8037\n",
      "Epoch 65/100\n",
      "1/1 [==============================] - 0s 3ms/step - loss: 8.7375 - mae: 8.7375\n",
      "Epoch 66/100\n",
      "1/1 [==============================] - 0s 3ms/step - loss: 8.6712 - mae: 8.6712\n",
      "Epoch 67/100\n",
      "1/1 [==============================] - 0s 4ms/step - loss: 8.6050 - mae: 8.6050\n",
      "Epoch 68/100\n",
      "1/1 [==============================] - 0s 3ms/step - loss: 8.5387 - mae: 8.5387\n",
      "Epoch 69/100\n",
      "1/1 [==============================] - 0s 3ms/step - loss: 8.4725 - mae: 8.4725\n",
      "Epoch 70/100\n",
      "1/1 [==============================] - 0s 3ms/step - loss: 8.4062 - mae: 8.4062\n",
      "Epoch 71/100\n",
      "1/1 [==============================] - 0s 3ms/step - loss: 8.3420 - mae: 8.3420\n",
      "Epoch 72/100\n",
      "1/1 [==============================] - 0s 3ms/step - loss: 8.3075 - mae: 8.3075\n",
      "Epoch 73/100\n",
      "1/1 [==============================] - 0s 3ms/step - loss: 8.2729 - mae: 8.2729\n",
      "Epoch 74/100\n",
      "1/1 [==============================] - 0s 3ms/step - loss: 8.2384 - mae: 8.2384\n",
      "Epoch 75/100\n",
      "1/1 [==============================] - 0s 3ms/step - loss: 8.2039 - mae: 8.2039\n",
      "Epoch 76/100\n",
      "1/1 [==============================] - 0s 3ms/step - loss: 8.1693 - mae: 8.1693\n",
      "Epoch 77/100\n",
      "1/1 [==============================] - 0s 3ms/step - loss: 8.1348 - mae: 8.1348\n",
      "Epoch 78/100\n",
      "1/1 [==============================] - 0s 4ms/step - loss: 8.1003 - mae: 8.1003\n",
      "Epoch 79/100\n",
      "1/1 [==============================] - 0s 3ms/step - loss: 8.0658 - mae: 8.0658\n",
      "Epoch 80/100\n",
      "1/1 [==============================] - 0s 3ms/step - loss: 8.0312 - mae: 8.0312\n",
      "Epoch 81/100\n",
      "1/1 [==============================] - 0s 4ms/step - loss: 7.9967 - mae: 7.9967\n",
      "Epoch 82/100\n",
      "1/1 [==============================] - 0s 3ms/step - loss: 7.9622 - mae: 7.9622\n",
      "Epoch 83/100\n",
      "1/1 [==============================] - 0s 3ms/step - loss: 7.9276 - mae: 7.9276\n",
      "Epoch 84/100\n",
      "1/1 [==============================] - 0s 7ms/step - loss: 7.8931 - mae: 7.8931\n",
      "Epoch 85/100\n",
      "1/1 [==============================] - 0s 4ms/step - loss: 7.8586 - mae: 7.8586\n",
      "Epoch 86/100\n",
      "1/1 [==============================] - 0s 3ms/step - loss: 7.8240 - mae: 7.8240\n",
      "Epoch 87/100\n",
      "1/1 [==============================] - 0s 5ms/step - loss: 7.7895 - mae: 7.7895\n",
      "Epoch 88/100\n",
      "1/1 [==============================] - 0s 3ms/step - loss: 7.7550 - mae: 7.7550\n",
      "Epoch 89/100\n",
      "1/1 [==============================] - 0s 3ms/step - loss: 7.7204 - mae: 7.7204\n",
      "Epoch 90/100\n",
      "1/1 [==============================] - 0s 4ms/step - loss: 7.6859 - mae: 7.6859\n",
      "Epoch 91/100\n",
      "1/1 [==============================] - 0s 4ms/step - loss: 7.6514 - mae: 7.6514\n",
      "Epoch 92/100\n",
      "1/1 [==============================] - 0s 3ms/step - loss: 7.6168 - mae: 7.6168\n",
      "Epoch 93/100\n",
      "1/1 [==============================] - 0s 5ms/step - loss: 7.5823 - mae: 7.5823\n",
      "Epoch 94/100\n",
      "1/1 [==============================] - 0s 4ms/step - loss: 7.5478 - mae: 7.5478\n",
      "Epoch 95/100\n",
      "1/1 [==============================] - 0s 3ms/step - loss: 7.5133 - mae: 7.5133\n",
      "Epoch 96/100\n",
      "1/1 [==============================] - 0s 4ms/step - loss: 7.4787 - mae: 7.4787\n",
      "Epoch 97/100\n",
      "1/1 [==============================] - 0s 3ms/step - loss: 7.4442 - mae: 7.4442\n",
      "Epoch 98/100\n",
      "1/1 [==============================] - 0s 3ms/step - loss: 7.4097 - mae: 7.4097\n",
      "Epoch 99/100\n",
      "1/1 [==============================] - 0s 4ms/step - loss: 7.3751 - mae: 7.3751\n",
      "Epoch 100/100\n",
      "1/1 [==============================] - 0s 3ms/step - loss: 7.3406 - mae: 7.3406\n"
     ]
    }
   ],
   "source": [
    "# lets see if we can increase our current model by increaseing teh epochs to 100 \n",
    "tf.random.set_seed(42)\n",
    "# lets create a model using teh sequenctial API\n",
    "model= tf.keras.Sequential([ #groups a linear stack of layers into a tf.keras.Model.\n",
    "    tf.keras.layers.Dense(2) # now we have 2 hidden layers of neurons \n",
    "    ]) # this is basically saying that we want to generate a model from keras \n",
    "# now we want to compule the model \n",
    "model.compile(loss=tf.keras.losses.mae, # mae measn mean abouslue error, which is a measure of error between paired observations expressing the same phenomenon, compairson between preducted vs observed  )- \n",
    "               optimizer=tf.keras.optimizers.SGD(),\n",
    "               metrics=[\"mae\"])\n",
    "# now we want to fit the model \n",
    "with tf.device('/cpu:0'): model.fit(tf.expand_dims(X, axis=-1), y, epochs=100) # we need to use the with cup or the kernal will crash\n",
    "# epochs refers to the number of runs "
   ]
  },
  {
   "cell_type": "markdown",
   "metadata": {},
   "source": [
    "# Evaluating a model \n",
    "in practice a typical workflow youll go through when building neural networks:\n",
    "- build a model\n",
    "- fit it \n",
    "- evaluate it \n",
    "- tweak a model \n",
    "- fit it \n",
    "- evaluate it ... and repeate until we have met the desired outcome :)\n",
    "\n",
    "when it comes to evaluation of out models we want to visualise our output with the desired output.\n",
    "Generally we want to plot our data. this can go into the optimization of hyperparameters so that the predictions are as accurate across different input parameters for X\n",
    " \n"
   ]
  },
  {
   "cell_type": "code",
   "execution_count": 42,
   "metadata": {},
   "outputs": [
    {
     "data": {
      "text/plain": [
       "<tf.Tensor: shape=(50,), dtype=int32, numpy=\n",
       "array([-100,  -96,  -92,  -88,  -84,  -80,  -76,  -72,  -68,  -64,  -60,\n",
       "        -56,  -52,  -48,  -44,  -40,  -36,  -32,  -28,  -24,  -20,  -16,\n",
       "        -12,   -8,   -4,    0,    4,    8,   12,   16,   20,   24,   28,\n",
       "         32,   36,   40,   44,   48,   52,   56,   60,   64,   68,   72,\n",
       "         76,   80,   84,   88,   92,   96], dtype=int32)>"
      ]
     },
     "execution_count": 42,
     "metadata": {},
     "output_type": "execute_result"
    }
   ],
   "source": [
    "# lets make a bigger data set \n",
    "X = tf.range(-100,100,4)\n",
    "X"
   ]
  },
  {
   "cell_type": "code",
   "execution_count": 43,
   "metadata": {},
   "outputs": [
    {
     "data": {
      "text/plain": [
       "<tf.Tensor: shape=(50,), dtype=int32, numpy=\n",
       "array([-90, -86, -82, -78, -74, -70, -66, -62, -58, -54, -50, -46, -42,\n",
       "       -38, -34, -30, -26, -22, -18, -14, -10,  -6,  -2,   2,   6,  10,\n",
       "        14,  18,  22,  26,  30,  34,  38,  42,  46,  50,  54,  58,  62,\n",
       "        66,  70,  74,  78,  82,  86,  90,  94,  98, 102, 106], dtype=int32)>"
      ]
     },
     "execution_count": 43,
     "metadata": {},
     "output_type": "execute_result"
    }
   ],
   "source": [
    "# lets make labes for the data set \n",
    "# we watnt eh pattern to learn this relationship that y = X +10\n",
    "y = X+10\n",
    "y "
   ]
  },
  {
   "cell_type": "code",
   "execution_count": 44,
   "metadata": {},
   "outputs": [
    {
     "data": {
      "text/plain": [
       "<matplotlib.collections.PathCollection at 0x295cbed60>"
      ]
     },
     "execution_count": 44,
     "metadata": {},
     "output_type": "execute_result"
    },
    {
     "data": {
      "image/png": "[encoded data removed]",
      "text/plain": [
       "<Figure size 432x288 with 1 Axes>"
      ]
     },
     "metadata": {
      "needs_background": "light"
     },
     "output_type": "display_data"
    }
   ],
   "source": [
    "# now we want to visualise the data \n",
    "import matplotlib.pyplot as plt   \n",
    "plt.scatter(X,y)"
   ]
  },
  {
   "cell_type": "code",
   "execution_count": 45,
   "metadata": {},
   "outputs": [],
   "source": [
    "# before we visualise the training of the data we need to look into the theory of the 3 sets \n",
    "# the 3 sets refers to brekaing up the data into 3 differnet sets (training set, validation set, test set)\n",
    "# you generally have a training set of data (70-80% of the data we have avalible ) - this is where we would tweak the model\n",
    "# the vaidation set- is wher ewe are going to  \n"
   ]
  },
  {
   "cell_type": "markdown",
   "metadata": {},
   "source": [
    "# 3 sets theory \n",
    "- Generally in machine learning we have 3 sets of data that we utilise in the model\n",
    "- a training set where the model learns from this data which accounts for about 70-80% if teh ttal data you have avalible \n",
    "- a validation set -  the model gets tuned on this data, which is typically 10-15% of the data avalible\n",
    "- there is also the test set which is typically 10-15% of the total data avalible  \n"
   ]
  },
  {
   "cell_type": "code",
   "execution_count": 46,
   "metadata": {},
   "outputs": [
    {
     "data": {
      "text/plain": [
       "50"
      ]
     },
     "execution_count": 46,
     "metadata": {},
     "output_type": "execute_result"
    }
   ],
   "source": [
    "# lets check the length of how many samples we have \n",
    "len(X)\n",
    "# we shoul d genrally have a minimum of 100 in general for deep learning "
   ]
  },
  {
   "cell_type": "code",
   "execution_count": 47,
   "metadata": {},
   "outputs": [
    {
     "data": {
      "text/plain": [
       "(40, 10, 40, 10)"
      ]
     },
     "execution_count": 47,
     "metadata": {},
     "output_type": "execute_result"
    }
   ],
   "source": [
    "# lets split the data into training and test sets  \n",
    "X_train  = X [:40] # this is 80% of the data \n",
    "X_test = X[40:] # this is the last 10\n",
    " \n",
    "y_train = y[:40] # this is the first 40 that are dedicated to learning \n",
    "y_test = y [40:] # this the test set that contains teh last 10 values of the data set\n",
    "len(X_train), len(X_test), len(y_train), len(y_test)\n"
   ]
  },
  {
   "cell_type": "code",
   "execution_count": 48,
   "metadata": {},
   "outputs": [
    {
     "data": {
      "image/png": "[encoded data removed]",
      "text/plain": [
       "<Figure size 360x288 with 1 Axes>"
      ]
     },
     "metadata": {
      "needs_background": "light"
     },
     "output_type": "display_data"
    }
   ],
   "source": [
    "# now we want to visualise the data in the test sets \n",
    "plt.figure(figsize = (5,4)) # setting the figure size \n",
    "# we wnat to plot the training data in blue\n",
    "\n",
    "plt.scatter(X_train, y_train, c= \"b\", label = \"train data \") #plotting the training data in blue \n",
    "plt.scatter(X_test, y_test, c= \"g\", label= \"test data \") #plotting the test data in green\n",
    "\n",
    "plt.legend();"
   ]
  },
  {
   "cell_type": "markdown",
   "metadata": {},
   "source": [
    "# Generating a model "
   ]
  },
  {
   "cell_type": "code",
   "execution_count": 49,
   "metadata": {},
   "outputs": [],
   "source": [
    "# now lets generate a model that is able to predict \n",
    "# lets see if we can increase our current model by increaseing teh epochs to 100 \n",
    "tf.random.set_seed(42)\n",
    "# lets create a model using teh sequenctial API\n",
    "model= tf.keras.Sequential([ #groups a linear stack of layers into a tf.keras.Model.\n",
    "    tf.keras.layers.Dense(1)# now we have 2 hidden layers of neurons \n",
    "    ]) # this is basically saying that we want to generate a model from keras \n",
    "# now we want to compule the model \n",
    "model.compile(loss=tf.keras.losses.mae, # mae measn mean abouslue error, which is a measure of error between paired observations expressing the same phenomenon, compairson between preducted vs observed  )- \n",
    "               optimizer=tf.keras.optimizers.SGD(),\n",
    "               metrics=[\"mae\"])\n",
    "# now we want to fit the model \n",
    "#with tf.device('/cpu:0'): model.fit(tf.expand_dims(X_train, axis=-1), y_train, epochs=100) # we need to use the with cup or the kernal will crash\n",
    "# epochs refers to the number of runs "
   ]
  },
  {
   "cell_type": "code",
   "execution_count": 15,
   "metadata": {},
   "outputs": [],
   "source": [
    "# now lets generate a model that is able to predict \n",
    "# lets see if we can increase our current model by increaseing teh epochs to 100 \n",
    "tf.random.set_seed(42)\n",
    "# lets create a model using teh sequenctial API\n",
    "with tf.device('/cpu:0'): model= tf.keras.Sequential([ #groups a linear stack of layers into a tf.keras.Model.\n",
    "    tf.keras.layers.Dense(10, input_shape = [1], name = \"input_layer\"),\n",
    "    tf.keras.layers.Dense(1, name = \"output_layer\")\n",
    "    # now we have 2 hidden layers of neurons \n",
    "    ], name = \"model1\") # this is basically saying that we want to generate a model from keras \n",
    "# now we want to compule the model \n",
    "model.compile(loss=tf.keras.losses.mae, # mae measn mean abouslue error, which is a measure of error between paired observations expressing the same phenomenon, compairson between preducted vs observed  )- \n",
    "               optimizer=tf.keras.optimizers.SGD(),\n",
    "               metrics=[\"mae\"])\n",
    "# now we want to fit the model \n",
    "# epochs refers to the number of runs \n"
   ]
  },
  {
   "cell_type": "code",
   "execution_count": 16,
   "metadata": {},
   "outputs": [
    {
     "name": "stdout",
     "output_type": "stream",
     "text": [
      "Model: \"model1\"\n",
      "_________________________________________________________________\n",
      " Layer (type)                Output Shape              Param #   \n",
      "=================================================================\n",
      " input_layer (Dense)         (None, 10)                20        \n",
      "                                                                 \n",
      " output_layer (Dense)        (None, 1)                 11        \n",
      "                                                                 \n",
      "=================================================================\n",
      "Total params: 31\n",
      "Trainable params: 31\n",
      "Non-trainable params: 0\n",
      "_________________________________________________________________\n"
     ]
    }
   ],
   "source": [
    "model.summary() \n",
    "# dense means fully connected layer in the neural network where the first layer is connected to the next layer ()\n",
    "# the total params is the total number of parameters in the model- these are the parameters that the model is going to try and learn \n",
    "# the trainable params are the patterns that the model can update as it trains \n",
    "# the non trainable params arent updated during training - which is common when we bring in already learned patterns from other models in transfer learning \n",
    "# \n"
   ]
  },
  {
   "cell_type": "code",
   "execution_count": 17,
   "metadata": {},
   "outputs": [
    {
     "data": {
      "image/png": "[encoded data removed]",
      "text/plain": [
       "<IPython.core.display.Image object>"
      ]
     },
     "execution_count": 17,
     "metadata": {},
     "output_type": "execute_result"
    }
   ],
   "source": [
    "#if we want to plot a model we can use the tf.keras.plot_model function with the input parameters of model, \n",
    "tf.keras.utils.plot_model(model, show_shapes= True)"
   ]
  }
 ],
 "metadata": {
  "kernelspec": {
   "display_name": "Python 3.9.13 ('base')",
   "language": "python",
   "name": "python3"
  },
  "language_info": {
   "codemirror_mode": {
    "name": "ipython",
    "version": 3
   },
   "file_extension": ".py",
   "mimetype": "text/x-python",
   "name": "python",
   "nbconvert_exporter": "python",
   "pygments_lexer": "ipython3",
   "version": "3.9.13"
  },
  "vscode": {
   "interpreter": {
    "hash": "c1ed3d0d51d0d9fc84e9feca67a2c96385eab8afcf16092b40709d9c6021dc22"
   }
  }
 },
 "nbformat": 4,
 "nbformat_minor": 2
}
