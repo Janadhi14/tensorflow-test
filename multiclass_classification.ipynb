{
 "cells": [
  {
   "cell_type": "markdown",
   "metadata": {},
   "source": [
    "## Working with a larger example (Multiclass Classification):\n",
    "When you have more than 2 classes as an option its knwn as multi-classe classification \n",
    "\n",
    "- This means if you have 3 different classes, its multiclass classification \n",
    "- It also means if you have 100 different classes its mumlticlass classification \n",
    "\n",
    "- We are going to build a neural netwok that can calssify different items of clothing"
   ]
  },
  {
   "cell_type": "code",
   "execution_count": 2,
   "metadata": {},
   "outputs": [],
   "source": [
    "import tensorflow as tf \n",
    "import keras \n",
    "import matplotlib.pyplot as plt\n",
    "import numpy as np\n",
    "# we also need to import the fashion_mnist data set \n",
    "from tensorflow.keras.datasets import fashion_mnist\n"
   ]
  },
  {
   "cell_type": "code",
   "execution_count": 3,
   "metadata": {},
   "outputs": [],
   "source": [
    "# the data has already been sorted into trianing adn test sets for us \n",
    "(train_data, train_labels), (test_data, test_labels) = fashion_mnist.load_data()"
   ]
  },
  {
   "cell_type": "code",
   "execution_count": 4,
   "metadata": {},
   "outputs": [
    {
     "name": "stdout",
     "output_type": "stream",
     "text": [
      "Training sample:\n",
      "[[  0   0   0   0   0   0   0   0   0   0   0   0   0   0   0   0   0   0\n",
      "    0   0   0   0   0   0   0   0   0   0]\n",
      " [  0   0   0   0   0   0   0   0   0   0   0   0   0   0   0   0   0   0\n",
      "    0   0   0   0   0   0   0   0   0   0]\n",
      " [  0   0   0   0   0   0   0   0   0   0   0   0   0   0   0   0   0   0\n",
      "    0   0   0   0   0   0   0   0   0   0]\n",
      " [  0   0   0   0   0   0   0   0   0   0   0   0   1   0   0  13  73   0\n",
      "    0   1   4   0   0   0   0   1   1   0]\n",
      " [  0   0   0   0   0   0   0   0   0   0   0   0   3   0  36 136 127  62\n",
      "   54   0   0   0   1   3   4   0   0   3]\n",
      " [  0   0   0   0   0   0   0   0   0   0   0   0   6   0 102 204 176 134\n",
      "  144 123  23   0   0   0   0  12  10   0]\n",
      " [  0   0   0   0   0   0   0   0   0   0   0   0   0   0 155 236 207 178\n",
      "  107 156 161 109  64  23  77 130  72  15]\n",
      " [  0   0   0   0   0   0   0   0   0   0   0   1   0  69 207 223 218 216\n",
      "  216 163 127 121 122 146 141  88 172  66]\n",
      " [  0   0   0   0   0   0   0   0   0   1   1   1   0 200 232 232 233 229\n",
      "  223 223 215 213 164 127 123 196 229   0]\n",
      " [  0   0   0   0   0   0   0   0   0   0   0   0   0 183 225 216 223 228\n",
      "  235 227 224 222 224 221 223 245 173   0]\n",
      " [  0   0   0   0   0   0   0   0   0   0   0   0   0 193 228 218 213 198\n",
      "  180 212 210 211 213 223 220 243 202   0]\n",
      " [  0   0   0   0   0   0   0   0   0   1   3   0  12 219 220 212 218 192\n",
      "  169 227 208 218 224 212 226 197 209  52]\n",
      " [  0   0   0   0   0   0   0   0   0   0   6   0  99 244 222 220 218 203\n",
      "  198 221 215 213 222 220 245 119 167  56]\n",
      " [  0   0   0   0   0   0   0   0   0   4   0   0  55 236 228 230 228 240\n",
      "  232 213 218 223 234 217 217 209  92   0]\n",
      " [  0   0   1   4   6   7   2   0   0   0   0   0 237 226 217 223 222 219\n",
      "  222 221 216 223 229 215 218 255  77   0]\n",
      " [  0   3   0   0   0   0   0   0   0  62 145 204 228 207 213 221 218 208\n",
      "  211 218 224 223 219 215 224 244 159   0]\n",
      " [  0   0   0   0  18  44  82 107 189 228 220 222 217 226 200 205 211 230\n",
      "  224 234 176 188 250 248 233 238 215   0]\n",
      " [  0  57 187 208 224 221 224 208 204 214 208 209 200 159 245 193 206 223\n",
      "  255 255 221 234 221 211 220 232 246   0]\n",
      " [  3 202 228 224 221 211 211 214 205 205 205 220 240  80 150 255 229 221\n",
      "  188 154 191 210 204 209 222 228 225   0]\n",
      " [ 98 233 198 210 222 229 229 234 249 220 194 215 217 241  65  73 106 117\n",
      "  168 219 221 215 217 223 223 224 229  29]\n",
      " [ 75 204 212 204 193 205 211 225 216 185 197 206 198 213 240 195 227 245\n",
      "  239 223 218 212 209 222 220 221 230  67]\n",
      " [ 48 203 183 194 213 197 185 190 194 192 202 214 219 221 220 236 225 216\n",
      "  199 206 186 181 177 172 181 205 206 115]\n",
      " [  0 122 219 193 179 171 183 196 204 210 213 207 211 210 200 196 194 191\n",
      "  195 191 198 192 176 156 167 177 210  92]\n",
      " [  0   0  74 189 212 191 175 172 175 181 185 188 189 188 193 198 204 209\n",
      "  210 210 211 188 188 194 192 216 170   0]\n",
      " [  2   0   0   0  66 200 222 237 239 242 246 243 244 221 220 193 191 179\n",
      "  182 182 181 176 166 168  99  58   0   0]\n",
      " [  0   0   0   0   0   0   0  40  61  44  72  41  35   0   0   0   0   0\n",
      "    0   0   0   0   0   0   0   0   0   0]\n",
      " [  0   0   0   0   0   0   0   0   0   0   0   0   0   0   0   0   0   0\n",
      "    0   0   0   0   0   0   0   0   0   0]\n",
      " [  0   0   0   0   0   0   0   0   0   0   0   0   0   0   0   0   0   0\n",
      "    0   0   0   0   0   0   0   0   0   0]]\n",
      "\n",
      "Training label:\n",
      "9\n",
      "\n"
     ]
    }
   ],
   "source": [
    "# show the first trainign example :\n",
    "print(f\"Training sample:\\n{train_data[0]}\\n\")\n",
    "print(f\"Training label:\\n{train_labels[0]}\\n\")"
   ]
  },
  {
   "cell_type": "code",
   "execution_count": 5,
   "metadata": {},
   "outputs": [
    {
     "data": {
      "text/plain": [
       "((28, 28), ())"
      ]
     },
     "execution_count": 5,
     "metadata": {},
     "output_type": "execute_result"
    }
   ],
   "source": [
    "# checking the sahpe of a single example :\n",
    "train_data[0].shape, train_labels[0].shape"
   ]
  },
  {
   "cell_type": "code",
   "execution_count": 6,
   "metadata": {},
   "outputs": [
    {
     "data": {
      "image/png": "[encoded data removed]",
      "text/plain": [
       "<Figure size 432x288 with 1 Axes>"
      ]
     },
     "metadata": {
      "needs_background": "light"
     },
     "output_type": "display_data"
    }
   ],
   "source": [
    "# now lest plot a single sample :\n",
    "\n",
    "plt.imshow(train_data[0]);\n"
   ]
  },
  {
   "cell_type": "code",
   "execution_count": 7,
   "metadata": {},
   "outputs": [
    {
     "data": {
      "text/plain": [
       "9"
      ]
     },
     "execution_count": 7,
     "metadata": {},
     "output_type": "execute_result"
    }
   ],
   "source": [
    "train_labels[0]"
   ]
  },
  {
   "cell_type": "code",
   "execution_count": 8,
   "metadata": {},
   "outputs": [
    {
     "data": {
      "text/plain": [
       "10"
      ]
     },
     "execution_count": 8,
     "metadata": {},
     "output_type": "execute_result"
    }
   ],
   "source": [
    "# now we need to create a smal lsit so we can index the items onto our training lables os they are  human readable \n",
    "class_names = [\"T-shirt/top\", \"Trouser\", \"Pullover\", \"Dress\", \"Coat\", \"Sandal\", \"Shirt\", \"Sneaker\",\"Bag\", \"Ankle Boot\" ]\n",
    "len(class_names)"
   ]
  },
  {
   "cell_type": "code",
   "execution_count": 32,
   "metadata": {},
   "outputs": [
    {
     "data": {
      "text/plain": [
       "Text(0.5, 1.0, 'Bag')"
      ]
     },
     "execution_count": 32,
     "metadata": {},
     "output_type": "execute_result"
    },
    {
     "data": {
      "image/png": "[encoded data removed]",
      "text/plain": [
       "<Figure size 432x288 with 1 Axes>"
      ]
     },
     "metadata": {
      "needs_background": "light"
     },
     "output_type": "display_data"
    }
   ],
   "source": [
    "# lets plot an examaple image and its label \n",
    "index_of_choice = 35\n",
    "plt.imshow(train_data[index_of_choice], cmap = plt.cm.binary)\n",
    "plt.title(class_names[train_labels[index_of_choice]])"
   ]
  },
  {
   "cell_type": "code",
   "execution_count": 31,
   "metadata": {},
   "outputs": [
    {
     "data": {
      "image/png": "[encoded data removed]",
      "text/plain": [
       "<Figure size 504x504 with 4 Axes>"
      ]
     },
     "metadata": {
      "needs_background": "light"
     },
     "output_type": "display_data"
    }
   ],
   "source": [
    "# plot multiple random images of fashion MNIST\n",
    "import random \n",
    "plt.figure(figsize = (7,7))\n",
    "for i in range (4):\n",
    "    ax = plt.subplot(2,2,i+1)\n",
    "    rand_index =random.choice(range(len(train_data)))\n",
    "    plt.imshow(train_data[rand_index], cmap=plt.cm.binary)\n",
    "    plt.axis(False)"
   ]
  },
  {
   "cell_type": "markdown",
   "metadata": {},
   "source": [
    "For our multiclass classification model we are going to have to use some features of the parameters\n",
    "- input shape = 28 x 28 \n",
    "- output shape = 10 (one per class of clothing )\n",
    "- loss functions = tf.keras.losses.CategoricalCrossentropy \n",
    "- output layer actiavtion = softmax \n"
   ]
  },
  {
   "cell_type": "code",
   "execution_count": 11,
   "metadata": {},
   "outputs": [
    {
     "data": {
      "text/plain": [
       "array([9, 0, 0, 3, 0, 2, 7, 2, 5, 5], dtype=uint8)"
      ]
     },
     "execution_count": 11,
     "metadata": {},
     "output_type": "execute_result"
    }
   ],
   "source": [
    "train_labels[:10]"
   ]
  },
  {
   "cell_type": "markdown",
   "metadata": {},
   "source": [
    "We need to use the SparseCategoricalCrossentropy if we dont have the trained data as one hot \n"
   ]
  },
  {
   "cell_type": "code",
   "execution_count": 14,
   "metadata": {},
   "outputs": [
    {
     "name": "stdout",
     "output_type": "stream",
     "text": [
      "Epoch 1/10\n",
      "  49/1875 [..............................] - ETA: 5s - loss: 5.3749 - accuracy: 0.1218"
     ]
    },
    {
     "name": "stderr",
     "output_type": "stream",
     "text": [
      "2022-07-09 11:57:37.051825: I tensorflow/core/grappler/optimizers/custom_graph_optimizer_registry.cc:113] Plugin optimizer for device_type GPU is enabled.\n"
     ]
    },
    {
     "name": "stdout",
     "output_type": "stream",
     "text": [
      "1864/1875 [============================>.] - ETA: 0s - loss: 2.1508 - accuracy: 0.1644"
     ]
    },
    {
     "name": "stderr",
     "output_type": "stream",
     "text": [
      "2022-07-09 11:57:41.694206: I tensorflow/core/grappler/optimizers/custom_graph_optimizer_registry.cc:113] Plugin optimizer for device_type GPU is enabled.\n"
     ]
    },
    {
     "name": "stdout",
     "output_type": "stream",
     "text": [
      "1875/1875 [==============================] - 5s 3ms/step - loss: 2.1485 - accuracy: 0.1648 - val_loss: 1.7670 - val_accuracy: 0.2314\n",
      "Epoch 2/10\n",
      "1875/1875 [==============================] - 5s 3ms/step - loss: 1.6961 - accuracy: 0.2582 - val_loss: 1.6448 - val_accuracy: 0.2849\n",
      "Epoch 3/10\n",
      "1875/1875 [==============================] - 5s 3ms/step - loss: 1.6309 - accuracy: 0.2812 - val_loss: 1.6039 - val_accuracy: 0.3081\n",
      "Epoch 4/10\n",
      "1875/1875 [==============================] - 5s 3ms/step - loss: 1.6094 - accuracy: 0.2851 - val_loss: 1.6006 - val_accuracy: 0.2888\n",
      "Epoch 5/10\n",
      "1875/1875 [==============================] - 5s 3ms/step - loss: 1.5987 - accuracy: 0.2944 - val_loss: 1.5814 - val_accuracy: 0.3183\n",
      "Epoch 6/10\n",
      "1875/1875 [==============================] - 5s 3ms/step - loss: 1.5943 - accuracy: 0.3072 - val_loss: 1.5767 - val_accuracy: 0.3272\n",
      "Epoch 7/10\n",
      "1875/1875 [==============================] - 5s 3ms/step - loss: 1.5740 - accuracy: 0.3219 - val_loss: 1.5614 - val_accuracy: 0.3374\n",
      "Epoch 8/10\n",
      "1875/1875 [==============================] - 5s 3ms/step - loss: 1.5757 - accuracy: 0.3189 - val_loss: 1.5686 - val_accuracy: 0.3243\n",
      "Epoch 9/10\n",
      "1875/1875 [==============================] - 5s 3ms/step - loss: 1.5765 - accuracy: 0.3178 - val_loss: 1.5586 - val_accuracy: 0.3349\n",
      "Epoch 10/10\n",
      "1875/1875 [==============================] - 5s 3ms/step - loss: 1.5742 - accuracy: 0.3219 - val_loss: 1.5463 - val_accuracy: 0.3349\n"
     ]
    }
   ],
   "source": [
    "# lets try to use a higher ideal learning rate of 0.02\n",
    "# lets recreate a model using just the training data to train on\n",
    "tf.random.set_seed(42)\n",
    "\n",
    "with tf.device('/cpu:0'):model_1 = tf.keras.Sequential([\n",
    "    tf.keras.layers.Flatten(input_shape =(28,28)), # this is used to flatten the data which will \n",
    "    tf.keras.layers.Dense(4, activation = \"relu\"),\n",
    "    tf.keras.layers.Dense(4, activation = \"relu\"), \n",
    "    tf.keras.layers.Dense(10, activation = \"softmax\")\n",
    "   \n",
    "])\n",
    "model_1.compile(loss = \"SparseCategoricalCrossentropy\", # dependent on the problem type and tellsthe model how wrong the predictions are \n",
    "                optimizer =  tf.keras.optimizers.Adam(), # if we increase the relanign rate we will be able to find the patterns faster \n",
    "                metrics = [\"accuracy\"]) # the higher the number the better \n",
    "\n",
    "\n",
    "#fit the model\n",
    "with tf.device('/cpu:0'): model_1.fit(train_data,\n",
    "                                      train_labels,\n",
    "                                      epochs = 10,\n",
    "                                      validation_data = (test_data,test_labels))"
   ]
  },
  {
   "cell_type": "code",
   "execution_count": 22,
   "metadata": {},
   "outputs": [
    {
     "data": {
      "text/plain": [
       "<tf.Tensor: shape=(10, 10), dtype=float32, numpy=\n",
       "array([[0., 0., 0., 0., 0., 0., 0., 0., 0., 1.],\n",
       "       [1., 0., 0., 0., 0., 0., 0., 0., 0., 0.],\n",
       "       [1., 0., 0., 0., 0., 0., 0., 0., 0., 0.],\n",
       "       [0., 0., 0., 1., 0., 0., 0., 0., 0., 0.],\n",
       "       [1., 0., 0., 0., 0., 0., 0., 0., 0., 0.],\n",
       "       [0., 0., 1., 0., 0., 0., 0., 0., 0., 0.],\n",
       "       [0., 0., 0., 0., 0., 0., 0., 1., 0., 0.],\n",
       "       [0., 0., 1., 0., 0., 0., 0., 0., 0., 0.],\n",
       "       [0., 0., 0., 0., 0., 1., 0., 0., 0., 0.],\n",
       "       [0., 0., 0., 0., 0., 1., 0., 0., 0., 0.]], dtype=float32)>"
      ]
     },
     "execution_count": 22,
     "metadata": {},
     "output_type": "execute_result"
    }
   ],
   "source": [
    "# lets rewrite with one hot encoded and CategoricalCrossentropy as the loss \n",
    "# first we will need to one hot encode the training data \n",
    "tf.one_hot(train_labels[:10], depth = 10)\n"
   ]
  },
  {
   "cell_type": "code",
   "execution_count": 33,
   "metadata": {},
   "outputs": [
    {
     "name": "stdout",
     "output_type": "stream",
     "text": [
      "Epoch 1/10\n",
      "  50/1875 [..............................] - ETA: 3s - loss: 5.3135 - accuracy: 0.1219 "
     ]
    },
    {
     "name": "stderr",
     "output_type": "stream",
     "text": [
      "2022-07-09 13:16:44.358614: I tensorflow/core/grappler/optimizers/custom_graph_optimizer_registry.cc:113] Plugin optimizer for device_type GPU is enabled.\n"
     ]
    },
    {
     "name": "stdout",
     "output_type": "stream",
     "text": [
      "1871/1875 [============================>.] - ETA: 0s - loss: 2.1493 - accuracy: 0.1647"
     ]
    },
    {
     "name": "stderr",
     "output_type": "stream",
     "text": [
      "2022-07-09 13:16:48.388976: I tensorflow/core/grappler/optimizers/custom_graph_optimizer_registry.cc:113] Plugin optimizer for device_type GPU is enabled.\n"
     ]
    },
    {
     "name": "stdout",
     "output_type": "stream",
     "text": [
      "1875/1875 [==============================] - 5s 2ms/step - loss: 2.1485 - accuracy: 0.1648 - val_loss: 1.7670 - val_accuracy: 0.2314\n",
      "Epoch 2/10\n",
      "1875/1875 [==============================] - 4s 2ms/step - loss: 1.6961 - accuracy: 0.2582 - val_loss: 1.6448 - val_accuracy: 0.2849\n",
      "Epoch 3/10\n",
      "1875/1875 [==============================] - 5s 2ms/step - loss: 1.6309 - accuracy: 0.2812 - val_loss: 1.6039 - val_accuracy: 0.3081\n",
      "Epoch 4/10\n",
      "1875/1875 [==============================] - 5s 3ms/step - loss: 1.6094 - accuracy: 0.2851 - val_loss: 1.6006 - val_accuracy: 0.2888\n",
      "Epoch 5/10\n",
      "1875/1875 [==============================] - 5s 3ms/step - loss: 1.5987 - accuracy: 0.2944 - val_loss: 1.5814 - val_accuracy: 0.3183\n",
      "Epoch 6/10\n",
      "1875/1875 [==============================] - 5s 3ms/step - loss: 1.5943 - accuracy: 0.3072 - val_loss: 1.5767 - val_accuracy: 0.3272\n",
      "Epoch 7/10\n",
      "1875/1875 [==============================] - 5s 3ms/step - loss: 1.5740 - accuracy: 0.3219 - val_loss: 1.5614 - val_accuracy: 0.3374\n",
      "Epoch 8/10\n",
      "1875/1875 [==============================] - 5s 3ms/step - loss: 1.5757 - accuracy: 0.3189 - val_loss: 1.5686 - val_accuracy: 0.3243\n",
      "Epoch 9/10\n",
      "1875/1875 [==============================] - 5s 3ms/step - loss: 1.5765 - accuracy: 0.3178 - val_loss: 1.5586 - val_accuracy: 0.3349\n",
      "Epoch 10/10\n",
      "1875/1875 [==============================] - 5s 3ms/step - loss: 1.5742 - accuracy: 0.3219 - val_loss: 1.5464 - val_accuracy: 0.3349\n"
     ]
    }
   ],
   "source": [
    "\n",
    "tf.random.set_seed(42)\n",
    "\n",
    "with tf.device('/cpu:0'):model_2 = tf.keras.Sequential([\n",
    "    tf.keras.layers.Flatten(input_shape =(28,28)), # this is used to flatten the data which will \n",
    "    tf.keras.layers.Dense(4, activation = \"relu\"),\n",
    "    tf.keras.layers.Dense(4, activation = \"relu\"), \n",
    "    tf.keras.layers.Dense(10, activation = \"softmax\")\n",
    "   \n",
    "])\n",
    "model_2.compile(loss = \"CategoricalCrossentropy\", # dependent on the problem type and tellsthe model how wrong the predictions are \n",
    "                optimizer =  tf.keras.optimizers.Adam(), # if we increase the relanign rate we will be able to find the patterns faster \n",
    "                metrics = [\"accuracy\"]) # the higher the number the better \n",
    "\n",
    "\n",
    "#fit the model\n",
    "with tf.device('/cpu:0'): history_model_2 = model_2.fit(train_data, tf.one_hot(train_labels, depth = 10),\n",
    "                                      epochs = 10,\n",
    "                                      validation_data = (test_data, tf.one_hot(test_labels,depth = 10)))"
   ]
  },
  {
   "cell_type": "code",
   "execution_count": 24,
   "metadata": {},
   "outputs": [
    {
     "name": "stdout",
     "output_type": "stream",
     "text": [
      "Model: \"sequential_4\"\n",
      "_________________________________________________________________\n",
      " Layer (type)                Output Shape              Param #   \n",
      "=================================================================\n",
      " flatten_4 (Flatten)         (None, 784)               0         \n",
      "                                                                 \n",
      " dense_12 (Dense)            (None, 4)                 3140      \n",
      "                                                                 \n",
      " dense_13 (Dense)            (None, 4)                 20        \n",
      "                                                                 \n",
      " dense_14 (Dense)            (None, 10)                50        \n",
      "                                                                 \n",
      "=================================================================\n",
      "Total params: 3,210\n",
      "Trainable params: 3,210\n",
      "Non-trainable params: 0\n",
      "_________________________________________________________________\n"
     ]
    }
   ],
   "source": [
    "# now lets get a model summary \n",
    "model_1.summary()"
   ]
  },
  {
   "cell_type": "code",
   "execution_count": 25,
   "metadata": {},
   "outputs": [
    {
     "data": {
      "text/plain": [
       "(0, 255)"
      ]
     },
     "execution_count": 25,
     "metadata": {},
     "output_type": "execute_result"
    }
   ],
   "source": [
    "train_data.min(), train_data.max()"
   ]
  },
  {
   "cell_type": "code",
   "execution_count": 28,
   "metadata": {},
   "outputs": [
    {
     "data": {
      "text/plain": [
       "(0.0, 1.0)"
      ]
     },
     "execution_count": 28,
     "metadata": {},
     "output_type": "execute_result"
    }
   ],
   "source": [
    "# neural networks prefer data to be scaled (or normalized) this means they like teh data to have the nubers between 0 and 1 \n",
    "# we can get our training and testing data byween 0 adn 1 by dividing by the maximum \n",
    "train_data_norm = train_data/255.0\n",
    "test_data_norm = test_data/255.0\n",
    "\n",
    "train_data_norm.min(), train_data_norm.max()"
   ]
  },
  {
   "cell_type": "code",
   "execution_count": 29,
   "metadata": {},
   "outputs": [
    {
     "name": "stdout",
     "output_type": "stream",
     "text": [
      "Epoch 1/10\n",
      "  65/1875 [>.............................] - ETA: 4s - loss: 2.2300 - accuracy: 0.1572"
     ]
    },
    {
     "name": "stderr",
     "output_type": "stream",
     "text": [
      "2022-07-09 12:14:17.510390: I tensorflow/core/grappler/optimizers/custom_graph_optimizer_registry.cc:113] Plugin optimizer for device_type GPU is enabled.\n"
     ]
    },
    {
     "name": "stdout",
     "output_type": "stream",
     "text": [
      "1856/1875 [============================>.] - ETA: 0s - loss: 1.0381 - accuracy: 0.6465"
     ]
    },
    {
     "name": "stderr",
     "output_type": "stream",
     "text": [
      "2022-07-09 12:14:22.076072: I tensorflow/core/grappler/optimizers/custom_graph_optimizer_registry.cc:113] Plugin optimizer for device_type GPU is enabled.\n"
     ]
    },
    {
     "name": "stdout",
     "output_type": "stream",
     "text": [
      "1875/1875 [==============================] - 5s 3ms/step - loss: 1.0348 - accuracy: 0.6474 - val_loss: 0.6937 - val_accuracy: 0.7617\n",
      "Epoch 2/10\n",
      "1875/1875 [==============================] - 5s 3ms/step - loss: 0.6376 - accuracy: 0.7757 - val_loss: 0.6400 - val_accuracy: 0.7820\n",
      "Epoch 3/10\n",
      "1875/1875 [==============================] - 5s 3ms/step - loss: 0.5942 - accuracy: 0.7914 - val_loss: 0.6247 - val_accuracy: 0.7783\n",
      "Epoch 4/10\n",
      "1875/1875 [==============================] - 5s 3ms/step - loss: 0.5750 - accuracy: 0.7979 - val_loss: 0.6078 - val_accuracy: 0.7881\n",
      "Epoch 5/10\n",
      "1875/1875 [==============================] - 5s 3ms/step - loss: 0.5641 - accuracy: 0.8006 - val_loss: 0.6169 - val_accuracy: 0.7881\n",
      "Epoch 6/10\n",
      "1875/1875 [==============================] - 5s 3ms/step - loss: 0.5544 - accuracy: 0.8043 - val_loss: 0.5855 - val_accuracy: 0.7951\n",
      "Epoch 7/10\n",
      "1875/1875 [==============================] - 5s 3ms/step - loss: 0.5488 - accuracy: 0.8063 - val_loss: 0.6097 - val_accuracy: 0.7836\n",
      "Epoch 8/10\n",
      "1875/1875 [==============================] - 5s 3ms/step - loss: 0.5428 - accuracy: 0.8077 - val_loss: 0.5787 - val_accuracy: 0.7971\n",
      "Epoch 9/10\n",
      "1875/1875 [==============================] - 5s 3ms/step - loss: 0.5373 - accuracy: 0.8097 - val_loss: 0.5698 - val_accuracy: 0.7977\n",
      "Epoch 10/10\n",
      "1875/1875 [==============================] - 5s 3ms/step - loss: 0.5360 - accuracy: 0.8124 - val_loss: 0.5658 - val_accuracy: 0.8014\n"
     ]
    }
   ],
   "source": [
    "\n",
    "tf.random.set_seed(42)\n",
    "\n",
    "with tf.device('/cpu:0'):model_3 = tf.keras.Sequential([\n",
    "    tf.keras.layers.Flatten(input_shape =(28,28)), # this is used to flatten the data which will \n",
    "    tf.keras.layers.Dense(4, activation = \"relu\"),\n",
    "    tf.keras.layers.Dense(4, activation = \"relu\"), \n",
    "    tf.keras.layers.Dense(10, activation = \"softmax\")\n",
    "   \n",
    "])\n",
    "model_3.compile(loss = \"CategoricalCrossentropy\", # dependent on the problem type and tellsthe model how wrong the predictions are \n",
    "                optimizer =  tf.keras.optimizers.Adam(), # if we increase the relanign rate we will be able to find the patterns faster \n",
    "                metrics = [\"accuracy\"]) # the higher the number the better \n",
    "\n",
    "\n",
    "#fit the model\n",
    "with tf.device('/cpu:0'): history_model_3 = model_3.fit(train_data_norm, tf.one_hot(train_labels, depth = 10),\n",
    "                                      epochs = 10,\n",
    "                                      validation_data = (test_data_norm, tf.one_hot(test_labels,depth = 10)))"
   ]
  },
  {
   "cell_type": "code",
   "execution_count": 35,
   "metadata": {},
   "outputs": [
    {
     "data": {
      "text/plain": [
       "<AxesSubplot:title={'center':'Normalised data'}>"
      ]
     },
     "execution_count": 35,
     "metadata": {},
     "output_type": "execute_result"
    },
    {
     "data": {
      "image/png": "[encoded data removed]",
      "text/plain": [
       "<Figure size 432x288 with 1 Axes>"
      ]
     },
     "metadata": {
      "needs_background": "light"
     },
     "output_type": "display_data"
    },
    {
     "data": {
      "image/png": "[encoded data removed]",
      "text/plain": [
       "<Figure size 432x288 with 1 Axes>"
      ]
     },
     "metadata": {
      "needs_background": "light"
     },
     "output_type": "display_data"
    }
   ],
   "source": [
    "# now lets polit the normalised data loss curves \n",
    "import pandas as pd\n",
    "pd.DataFrame(history_model_2.history).plot(title = \"Non-normalized data \")\n",
    "pd.DataFrame(history_model_3.history).plot(title = \"Normalised data\")"
   ]
  },
  {
   "cell_type": "markdown",
   "metadata": {},
   "source": [
    "Notice that with the noralised data we see a significant decrease in the loss and validation loss alongside a large increase in the accuracy and validation accuracy \n",
    "- when conparing the reuslts, teh same model with even slightly different data can produce dramatically different result. So whne comparing the models its importnant to compare them on the same criteria. dont change a lot of variables and compare, only change one thing and compare to ditermine the factor that causes the change \n",
    "\n"
   ]
  },
  {
   "cell_type": "markdown",
   "metadata": {},
   "source": [
    "## Finding the ideal learning rate:"
   ]
  },
  {
   "cell_type": "code",
   "execution_count": 44,
   "metadata": {},
   "outputs": [
    {
     "name": "stdout",
     "output_type": "stream",
     "text": [
      "Epoch 1/40\n",
      "  72/1875 [>.............................] - ETA: 3s - loss: 2.2174 - accuracy: 0.1567"
     ]
    },
    {
     "name": "stderr",
     "output_type": "stream",
     "text": [
      "2022-07-09 13:36:43.412198: I tensorflow/core/grappler/optimizers/custom_graph_optimizer_registry.cc:113] Plugin optimizer for device_type GPU is enabled.\n"
     ]
    },
    {
     "name": "stdout",
     "output_type": "stream",
     "text": [
      "1856/1875 [============================>.] - ETA: 0s - loss: 1.0381 - accuracy: 0.6465"
     ]
    },
    {
     "name": "stderr",
     "output_type": "stream",
     "text": [
      "2022-07-09 13:36:47.380159: I tensorflow/core/grappler/optimizers/custom_graph_optimizer_registry.cc:113] Plugin optimizer for device_type GPU is enabled.\n"
     ]
    },
    {
     "name": "stdout",
     "output_type": "stream",
     "text": [
      "1875/1875 [==============================] - 5s 2ms/step - loss: 1.0348 - accuracy: 0.6474 - val_loss: 99.9192 - val_accuracy: 0.7298 - lr: 0.0010\n",
      "Epoch 2/40\n",
      "1875/1875 [==============================] - 5s 3ms/step - loss: 0.6366 - accuracy: 0.7759 - val_loss: 108.5675 - val_accuracy: 0.7350 - lr: 0.0011\n",
      "Epoch 3/40\n",
      "1875/1875 [==============================] - 5s 3ms/step - loss: 0.5934 - accuracy: 0.7911 - val_loss: 104.2177 - val_accuracy: 0.7335 - lr: 0.0013\n",
      "Epoch 4/40\n",
      "1875/1875 [==============================] - 5s 2ms/step - loss: 0.5749 - accuracy: 0.7969 - val_loss: 143.8113 - val_accuracy: 0.6955 - lr: 0.0014\n",
      "Epoch 5/40\n",
      "1875/1875 [==============================] - 5s 3ms/step - loss: 0.5655 - accuracy: 0.7987 - val_loss: 154.3259 - val_accuracy: 0.6986 - lr: 0.0016\n",
      "Epoch 6/40\n",
      "1875/1875 [==============================] - 4s 2ms/step - loss: 0.5569 - accuracy: 0.8022 - val_loss: 134.0122 - val_accuracy: 0.7042 - lr: 0.0018\n",
      "Epoch 7/40\n",
      "1875/1875 [==============================] - 5s 2ms/step - loss: 0.5542 - accuracy: 0.8036 - val_loss: 128.8285 - val_accuracy: 0.7151 - lr: 0.0020\n",
      "Epoch 8/40\n",
      "1875/1875 [==============================] - 5s 2ms/step - loss: 0.5509 - accuracy: 0.8039 - val_loss: 145.7936 - val_accuracy: 0.6908 - lr: 0.0022\n",
      "Epoch 9/40\n",
      "1875/1875 [==============================] - 4s 2ms/step - loss: 0.5468 - accuracy: 0.8047 - val_loss: 164.5607 - val_accuracy: 0.6787 - lr: 0.0025\n",
      "Epoch 10/40\n",
      "1875/1875 [==============================] - 5s 2ms/step - loss: 0.5478 - accuracy: 0.8058 - val_loss: 188.1086 - val_accuracy: 0.6638 - lr: 0.0028\n",
      "Epoch 11/40\n",
      "1875/1875 [==============================] - 5s 3ms/step - loss: 0.5446 - accuracy: 0.8059 - val_loss: 182.5226 - val_accuracy: 0.6679 - lr: 0.0032\n",
      "Epoch 12/40\n",
      "1875/1875 [==============================] - 4s 2ms/step - loss: 0.5432 - accuracy: 0.8067 - val_loss: 175.3072 - val_accuracy: 0.6642 - lr: 0.0035\n",
      "Epoch 13/40\n",
      "1875/1875 [==============================] - 4s 2ms/step - loss: 0.5425 - accuracy: 0.8056 - val_loss: 180.6761 - val_accuracy: 0.6736 - lr: 0.0040\n",
      "Epoch 14/40\n",
      "1875/1875 [==============================] - 5s 2ms/step - loss: 0.5407 - accuracy: 0.8078 - val_loss: 199.9773 - val_accuracy: 0.6597 - lr: 0.0045\n",
      "Epoch 15/40\n",
      "1875/1875 [==============================] - 4s 2ms/step - loss: 0.5408 - accuracy: 0.8052 - val_loss: 190.9931 - val_accuracy: 0.6561 - lr: 0.0050\n",
      "Epoch 16/40\n",
      "1875/1875 [==============================] - 5s 2ms/step - loss: 0.5437 - accuracy: 0.8058 - val_loss: 201.0831 - val_accuracy: 0.6457 - lr: 0.0056\n",
      "Epoch 17/40\n",
      "1875/1875 [==============================] - 5s 2ms/step - loss: 0.5419 - accuracy: 0.8075 - val_loss: 199.9469 - val_accuracy: 0.6523 - lr: 0.0063\n",
      "Epoch 18/40\n",
      "1875/1875 [==============================] - 6s 3ms/step - loss: 0.5488 - accuracy: 0.8058 - val_loss: 180.5502 - val_accuracy: 0.6494 - lr: 0.0071\n",
      "Epoch 19/40\n",
      "1875/1875 [==============================] - 6s 3ms/step - loss: 0.5506 - accuracy: 0.8042 - val_loss: 214.9783 - val_accuracy: 0.6011 - lr: 0.0079\n",
      "Epoch 20/40\n",
      "1875/1875 [==============================] - 5s 3ms/step - loss: 0.5540 - accuracy: 0.8026 - val_loss: 196.5155 - val_accuracy: 0.6438 - lr: 0.0089\n",
      "Epoch 21/40\n",
      "1875/1875 [==============================] - 5s 3ms/step - loss: 0.5573 - accuracy: 0.8033 - val_loss: 206.3924 - val_accuracy: 0.6003 - lr: 0.0100\n",
      "Epoch 22/40\n",
      "1875/1875 [==============================] - 5s 3ms/step - loss: 0.5603 - accuracy: 0.8017 - val_loss: 188.5898 - val_accuracy: 0.5864 - lr: 0.0112\n",
      "Epoch 23/40\n",
      "1875/1875 [==============================] - 5s 3ms/step - loss: 0.5667 - accuracy: 0.8011 - val_loss: 200.5033 - val_accuracy: 0.5646 - lr: 0.0126\n",
      "Epoch 24/40\n",
      "1875/1875 [==============================] - 5s 3ms/step - loss: 0.5812 - accuracy: 0.7966 - val_loss: 278.8750 - val_accuracy: 0.5066 - lr: 0.0141\n",
      "Epoch 25/40\n",
      "1875/1875 [==============================] - 5s 2ms/step - loss: 0.5831 - accuracy: 0.7958 - val_loss: 323.7804 - val_accuracy: 0.4978 - lr: 0.0158\n",
      "Epoch 26/40\n",
      "1875/1875 [==============================] - 5s 2ms/step - loss: 0.5946 - accuracy: 0.7912 - val_loss: 366.4839 - val_accuracy: 0.4071 - lr: 0.0178\n",
      "Epoch 27/40\n",
      "1875/1875 [==============================] - 5s 3ms/step - loss: 0.6138 - accuracy: 0.7857 - val_loss: 244.9689 - val_accuracy: 0.5054 - lr: 0.0200\n",
      "Epoch 28/40\n",
      "1875/1875 [==============================] - 5s 3ms/step - loss: 0.6160 - accuracy: 0.7834 - val_loss: 179.7227 - val_accuracy: 0.6012 - lr: 0.0224\n",
      "Epoch 29/40\n",
      "1875/1875 [==============================] - 5s 3ms/step - loss: 0.6380 - accuracy: 0.7760 - val_loss: 280.4461 - val_accuracy: 0.5197 - lr: 0.0251\n",
      "Epoch 30/40\n",
      "1875/1875 [==============================] - 5s 3ms/step - loss: 0.6671 - accuracy: 0.7657 - val_loss: 245.6981 - val_accuracy: 0.4768 - lr: 0.0282\n",
      "Epoch 31/40\n",
      "1875/1875 [==============================] - 5s 2ms/step - loss: 0.6908 - accuracy: 0.7579 - val_loss: 274.6220 - val_accuracy: 0.5184 - lr: 0.0316\n",
      "Epoch 32/40\n",
      "1875/1875 [==============================] - 5s 2ms/step - loss: 0.7032 - accuracy: 0.7556 - val_loss: 179.5213 - val_accuracy: 0.5553 - lr: 0.0355\n",
      "Epoch 33/40\n",
      "1875/1875 [==============================] - 5s 3ms/step - loss: 0.7520 - accuracy: 0.7446 - val_loss: 268.4672 - val_accuracy: 0.6087 - lr: 0.0398\n",
      "Epoch 34/40\n",
      "1875/1875 [==============================] - 5s 3ms/step - loss: 0.7797 - accuracy: 0.7376 - val_loss: 139.5837 - val_accuracy: 0.6006 - lr: 0.0447\n",
      "Epoch 35/40\n",
      "1875/1875 [==============================] - 5s 3ms/step - loss: 0.8655 - accuracy: 0.7010 - val_loss: 174.8999 - val_accuracy: 0.6321 - lr: 0.0501\n",
      "Epoch 36/40\n",
      "1875/1875 [==============================] - 5s 2ms/step - loss: 0.8827 - accuracy: 0.6949 - val_loss: 250.4189 - val_accuracy: 0.4323 - lr: 0.0562\n",
      "Epoch 37/40\n",
      "1875/1875 [==============================] - 5s 2ms/step - loss: 1.0702 - accuracy: 0.5749 - val_loss: 305.2545 - val_accuracy: 0.3776 - lr: 0.0631\n",
      "Epoch 38/40\n",
      "1875/1875 [==============================] - 5s 2ms/step - loss: 1.3666 - accuracy: 0.4105 - val_loss: 2.2170 - val_accuracy: 0.1790 - lr: 0.0708\n",
      "Epoch 39/40\n",
      "1875/1875 [==============================] - 5s 3ms/step - loss: 1.9388 - accuracy: 0.1921 - val_loss: 1.9081 - val_accuracy: 0.1837 - lr: 0.0794\n",
      "Epoch 40/40\n",
      "1875/1875 [==============================] - 5s 3ms/step - loss: 1.8817 - accuracy: 0.1966 - val_loss: 1.8463 - val_accuracy: 0.1998 - lr: 0.0891\n"
     ]
    }
   ],
   "source": [
    "# lets try to use a higher ideal learning rate of 0.02\n",
    "# lets recreate a model using just the training data to train on\n",
    "tf.random.set_seed(42)\n",
    "\n",
    "with tf.device('/cpu:0'):model_4 = tf.keras.Sequential([\n",
    "    tf.keras.layers.Flatten(input_shape =(28,28)), # this is used to flatten the data which will \n",
    "    tf.keras.layers.Dense(4, activation = \"relu\"),\n",
    "    tf.keras.layers.Dense(4, activation = \"relu\"), \n",
    "    tf.keras.layers.Dense(10, activation = \"softmax\")\n",
    "   \n",
    "])\n",
    "model_4.compile(loss = \"SparseCategoricalCrossentropy\", # dependent on the problem type and tellsthe model how wrong the predictions are \n",
    "                optimizer =  tf.keras.optimizers.Adam(), # if we increase the relanign rate we will be able to find the patterns faster \n",
    "                metrics = [\"accuracy\"]) # the higher the number the better \n",
    "\n",
    "lr_scheduler = tf.keras.callbacks.LearningRateScheduler(lambda epoch: 1e-3 * 10**(epoch/20))\n",
    "#fit the model\n",
    "with tf.device('/cpu:0'): model_4_history = model_4.fit(train_data_norm,\n",
    "                                      train_labels,\n",
    "                                      epochs = 40,\n",
    "                                      validation_data = (test_data,test_labels),\n",
    "                                      callbacks = [lr_scheduler])"
   ]
  },
  {
   "cell_type": "code",
   "execution_count": 45,
   "metadata": {},
   "outputs": [
    {
     "data": {
      "text/plain": [
       "Text(0.5, 1.0, 'learning Rate vs Loss ')"
      ]
     },
     "execution_count": 45,
     "metadata": {},
     "output_type": "execute_result"
    },
    {
     "data": {
      "image/png": "[encoded data removed]",
      "text/plain": [
       "<Figure size 432x288 with 1 Axes>"
      ]
     },
     "metadata": {
      "needs_background": "light"
     },
     "output_type": "display_data"
    }
   ],
   "source": [
    "# not lets plot the leraning rate decay curve\n",
    "# formula : lrs = 1e-4 * (10** (tf.range(epochs)/20)\n",
    "lrs = 1e-4 * (10** (tf.range(40)/20))\n",
    "plt.semilogx(lrs, model_4_history.history[\"loss\"]) # here we are trying to plot with long on the x axis \n",
    "plt.xlabel(\"Learning rate\")\n",
    "plt.ylabel(\"loss\")\n",
    "plt.title(\"learning Rate vs Loss \")"
   ]
  },
  {
   "cell_type": "code",
   "execution_count": 49,
   "metadata": {},
   "outputs": [
    {
     "name": "stderr",
     "output_type": "stream",
     "text": [
      "/Users/janadhi/miniforge3/lib/python3.9/site-packages/keras/optimizers/optimizer_v2/adam.py:110: UserWarning: The `lr` argument is deprecated, use `learning_rate` instead.\n",
      "  super(Adam, self).__init__(name, **kwargs)\n"
     ]
    },
    {
     "name": "stdout",
     "output_type": "stream",
     "text": [
      "Epoch 1/20\n",
      "  66/1875 [>.............................] - ETA: 4s - loss: 2.2277 - accuracy: 0.1567"
     ]
    },
    {
     "name": "stderr",
     "output_type": "stream",
     "text": [
      "2022-07-09 13:52:51.362423: I tensorflow/core/grappler/optimizers/custom_graph_optimizer_registry.cc:113] Plugin optimizer for device_type GPU is enabled.\n"
     ]
    },
    {
     "name": "stdout",
     "output_type": "stream",
     "text": [
      "1865/1875 [============================>.] - ETA: 0s - loss: 1.0365 - accuracy: 0.6469"
     ]
    },
    {
     "name": "stderr",
     "output_type": "stream",
     "text": [
      "2022-07-09 13:52:56.166774: I tensorflow/core/grappler/optimizers/custom_graph_optimizer_registry.cc:113] Plugin optimizer for device_type GPU is enabled.\n"
     ]
    },
    {
     "name": "stdout",
     "output_type": "stream",
     "text": [
      "1875/1875 [==============================] - 6s 3ms/step - loss: 1.0348 - accuracy: 0.6474 - val_loss: 99.9192 - val_accuracy: 0.7298\n",
      "Epoch 2/20\n",
      "1875/1875 [==============================] - 5s 3ms/step - loss: 0.6376 - accuracy: 0.7757 - val_loss: 108.3327 - val_accuracy: 0.7341\n",
      "Epoch 3/20\n",
      "1875/1875 [==============================] - 6s 3ms/step - loss: 0.5942 - accuracy: 0.7914 - val_loss: 102.6737 - val_accuracy: 0.7373\n",
      "Epoch 4/20\n",
      "1875/1875 [==============================] - 6s 3ms/step - loss: 0.5750 - accuracy: 0.7979 - val_loss: 132.9137 - val_accuracy: 0.7042\n",
      "Epoch 5/20\n",
      "1875/1875 [==============================] - 5s 3ms/step - loss: 0.5641 - accuracy: 0.8006 - val_loss: 150.7092 - val_accuracy: 0.7028\n",
      "Epoch 6/20\n",
      "1875/1875 [==============================] - 5s 3ms/step - loss: 0.5544 - accuracy: 0.8043 - val_loss: 126.4341 - val_accuracy: 0.7159\n",
      "Epoch 7/20\n",
      "1875/1875 [==============================] - 5s 2ms/step - loss: 0.5488 - accuracy: 0.8063 - val_loss: 118.1338 - val_accuracy: 0.7253\n",
      "Epoch 8/20\n",
      "1875/1875 [==============================] - 5s 2ms/step - loss: 0.5428 - accuracy: 0.8077 - val_loss: 128.4487 - val_accuracy: 0.7156\n",
      "Epoch 9/20\n",
      "1875/1875 [==============================] - 5s 2ms/step - loss: 0.5373 - accuracy: 0.8097 - val_loss: 142.0318 - val_accuracy: 0.7063\n",
      "Epoch 10/20\n",
      "1875/1875 [==============================] - 5s 2ms/step - loss: 0.5360 - accuracy: 0.8124 - val_loss: 143.8324 - val_accuracy: 0.7031\n",
      "Epoch 11/20\n",
      "1875/1875 [==============================] - 5s 2ms/step - loss: 0.5311 - accuracy: 0.8130 - val_loss: 174.8288 - val_accuracy: 0.6772\n",
      "Epoch 12/20\n",
      "1875/1875 [==============================] - 5s 3ms/step - loss: 0.5284 - accuracy: 0.8132 - val_loss: 149.2593 - val_accuracy: 0.6997\n",
      "Epoch 13/20\n",
      "1875/1875 [==============================] - 5s 3ms/step - loss: 0.5271 - accuracy: 0.8138 - val_loss: 166.9203 - val_accuracy: 0.6894\n",
      "Epoch 14/20\n",
      "1875/1875 [==============================] - 5s 3ms/step - loss: 0.5249 - accuracy: 0.8143 - val_loss: 188.7202 - val_accuracy: 0.6688\n",
      "Epoch 15/20\n",
      "1875/1875 [==============================] - 5s 2ms/step - loss: 0.5231 - accuracy: 0.8148 - val_loss: 160.5306 - val_accuracy: 0.6960\n",
      "Epoch 16/20\n",
      "1875/1875 [==============================] - 5s 2ms/step - loss: 0.5203 - accuracy: 0.8162 - val_loss: 187.3447 - val_accuracy: 0.6711\n",
      "Epoch 17/20\n",
      "1875/1875 [==============================] - 5s 2ms/step - loss: 0.5191 - accuracy: 0.8176 - val_loss: 166.1717 - val_accuracy: 0.6824\n",
      "Epoch 18/20\n",
      "1875/1875 [==============================] - 5s 2ms/step - loss: 0.5176 - accuracy: 0.8157 - val_loss: 171.1102 - val_accuracy: 0.6829\n",
      "Epoch 19/20\n",
      "1875/1875 [==============================] - 5s 3ms/step - loss: 0.5156 - accuracy: 0.8169 - val_loss: 171.6431 - val_accuracy: 0.6724\n",
      "Epoch 20/20\n",
      "1875/1875 [==============================] - 5s 3ms/step - loss: 0.5146 - accuracy: 0.8177 - val_loss: 186.8306 - val_accuracy: 0.6690\n"
     ]
    }
   ],
   "source": [
    "# lets refit a model iwth the ideal learning rate \n",
    "# lets try to use a higher ideal learning rate of 0.02\n",
    "# lets recreate a model using just the training data to train on\n",
    "tf.random.set_seed(42)\n",
    "\n",
    "with tf.device('/cpu:0'):model_5 = tf.keras.Sequential([\n",
    "    tf.keras.layers.Flatten(input_shape =(28,28)), # this is used to flatten the data which will \n",
    "    tf.keras.layers.Dense(4, activation = \"relu\"),\n",
    "    tf.keras.layers.Dense(4, activation = \"relu\"), \n",
    "    tf.keras.layers.Dense(10, activation = \"softmax\")\n",
    "   \n",
    "])\n",
    "model_5.compile(loss = \"SparseCategoricalCrossentropy\", # dependent on the problem type and tellsthe model how wrong the predictions are \n",
    "                optimizer =  tf.keras.optimizers.Adam(lr = 0.001), # if we increase the relanign rate we will be able to find the patterns faster \n",
    "                metrics = [\"accuracy\"]) # the higher the number the better \n",
    "\n",
    "\n",
    "#fit the model\n",
    "with tf.device('/cpu:0'): model_5_history = model_5.fit(train_data_norm,\n",
    "                                      train_labels,\n",
    "                                      epochs = 20,\n",
    "                                      validation_data = (test_data,test_labels))"
   ]
  },
  {
   "cell_type": "markdown",
   "metadata": {},
   "source": [
    "## Evaluating a multiclass classification model:\n",
    "To evaluate our multiclass classification model we could:\n",
    "- Evaluate its preformance using other classification metrics (such as a confusion matrix)\n",
    "- asses some of its preoduciton (through visualisation)\n",
    "- improve its results(by training it for longer or chanigng the architecture )\n",
    "- save and export it for use in an application\n"
   ]
  },
  {
   "cell_type": "code",
   "execution_count": 47,
   "metadata": {},
   "outputs": [],
   "source": [
    "# lets create a confusion matrix \n",
    "# making a visual of the confusion matrix \n",
    "# this is going to utelise the sklearn plot_confusion matrix\n",
    "\n",
    "def draw_confusion_matrix(y_true, y_preds, classes = None, figsize =(10,10), text_size = 15 ):\n",
    "  from sklearn.metrics import confusion_matrix\n",
    "  import itertools \n",
    "\n",
    "  # creating teh confusion matrix \n",
    "  cm = confusion_matrix(y_true, y_preds)\n",
    "  cm_norm = cm.astype(\"float\")/cm.sum(axis=1) [:, np.newaxis]\n",
    "  n_classes = cm.shape[0]\n",
    "\n",
    "  #Lets make it look good\n",
    "  fig, ax = plt.subplots(figsize=figsize)\n",
    "  # creating a matric plot \n",
    "  cax = ax.matshow(cm, cmap = plt.cm.Blues)\n",
    "  fig.colorbar(cax)\n",
    "\n",
    "\n",
    "  classes = False\n",
    "\n",
    "  if classes:\n",
    "    labels = classes\n",
    "  else:\n",
    "    labels = np.arange(cm.shape[0])\n",
    "\n",
    "  # Label the axes:\n",
    "  ax.set(title=\"Confusion Matrix\",\n",
    "        xlabel=\"Predicted label\",\n",
    "        ylabel=\"True label\",\n",
    "        xticks=np.arange(n_classes),\n",
    "        yticks=np.arange(n_classes),\n",
    "        xticklabels=labels,\n",
    "        yticklabels=labels)\n",
    "\n",
    "\n",
    "  threshold = (cm.max()+ cm.min())/2.\n",
    "\n",
    "  # Set x-axis labels to bottom\n",
    "  ax.xaxis.set_label_position(\"bottom\")\n",
    "  ax.xaxis.tick_bottom()\n",
    "\n",
    "  # Adjust label size\n",
    "  ax.xaxis.label.set_size(text_size)\n",
    "  ax.yaxis.label.set_size(text_size)\n",
    "  ax.title.set_size(text_size)\n",
    "\n",
    "  # Set threshold for different colors\n",
    "  threshold = (cm.max() + cm.min()) / 2.\n",
    "\n",
    "  # Plot the text on each cell\n",
    "  for i, j in itertools.product(range(cm.shape[0]), range(cm.shape[1])):\n",
    "    plt.text(j, i, f\"{cm[i, j]} ({cm_norm[i, j]*100:.1f}%)\",\n",
    "            horizontalalignment=\"center\",\n",
    "            color=\"white\" if cm[i, j] > threshold else \"black\",\n",
    "            size=text_size)"
   ]
  },
  {
   "cell_type": "code",
   "execution_count": 48,
   "metadata": {},
   "outputs": [
    {
     "data": {
      "text/plain": [
       "['T-shirt/top',\n",
       " 'Trouser',\n",
       " 'Pullover',\n",
       " 'Dress',\n",
       " 'Coat',\n",
       " 'Sandal',\n",
       " 'Shirt',\n",
       " 'Sneaker',\n",
       " 'Bag',\n",
       " 'Ankle Boot']"
      ]
     },
     "execution_count": 48,
     "metadata": {},
     "output_type": "execute_result"
    }
   ],
   "source": [
    "class_names"
   ]
  },
  {
   "cell_type": "code",
   "execution_count": 50,
   "metadata": {},
   "outputs": [
    {
     "name": "stderr",
     "output_type": "stream",
     "text": [
      "2022-07-09 13:55:14.735176: I tensorflow/core/grappler/optimizers/custom_graph_optimizer_registry.cc:113] Plugin optimizer for device_type GPU is enabled.\n"
     ]
    },
    {
     "name": "stdout",
     "output_type": "stream",
     "text": [
      "313/313 [==============================] - 2s 3ms/step\n"
     ]
    }
   ],
   "source": [
    "# lets make some preductions with model_5\n",
    "y_probs = model_5.predict(test_data_norm)\n",
    "#remember to make predictions on the same type of data that we trained on   \n"
   ]
  },
  {
   "cell_type": "code",
   "execution_count": 54,
   "metadata": {},
   "outputs": [
    {
     "data": {
      "text/plain": [
       "(array([8.5630593e-11, 3.5361671e-13, 2.6633830e-05, 4.6356419e-08,\n",
       "        5.0949908e-05, 9.6119292e-02, 8.1778403e-08, 9.1868691e-02,\n",
       "        4.0605315e-03, 8.0787379e-01], dtype=float32),\n",
       " <tf.Tensor: shape=(), dtype=int64, numpy=9>,\n",
       " 'Ankle Boot')"
      ]
     },
     "execution_count": 54,
     "metadata": {},
     "output_type": "execute_result"
    }
   ],
   "source": [
    "y_probs[0], tf.argmax(y_probs[0]), class_names[tf.argmax(y_probs[0])]\n",
    "#the highest number in the array indicate the index of which our model thinks the item is "
   ]
  },
  {
   "cell_type": "code",
   "execution_count": 55,
   "metadata": {},
   "outputs": [
    {
     "data": {
      "text/plain": [
       "array([9, 2, 1, 1, 6, 1, 4, 6, 5, 7])"
      ]
     },
     "execution_count": 55,
     "metadata": {},
     "output_type": "execute_result"
    }
   ],
   "source": [
    "# lets convert all of teh prediction probabilities into integers \n",
    "y_preds = y_probs.argmax(axis = 1)\n",
    "# view the first 10 preduction labels \n",
    "y_preds[:10]"
   ]
  },
  {
   "cell_type": "code",
   "execution_count": 52,
   "metadata": {},
   "outputs": [
    {
     "data": {
      "text/plain": [
       "['T-shirt/top',\n",
       " 'Trouser',\n",
       " 'Pullover',\n",
       " 'Dress',\n",
       " 'Coat',\n",
       " 'Sandal',\n",
       " 'Shirt',\n",
       " 'Sneaker',\n",
       " 'Bag',\n",
       " 'Ankle Boot']"
      ]
     },
     "execution_count": 52,
     "metadata": {},
     "output_type": "execute_result"
    }
   ],
   "source": [
    "class_names"
   ]
  },
  {
   "cell_type": "code",
   "execution_count": 57,
   "metadata": {},
   "outputs": [
    {
     "data": {
      "text/plain": [
       "array([[696,   8,  25,  87,   9,   5, 160,   0,  10,   0],\n",
       "       [  2, 939,   2,  35,   9,   0,  13,   0,   0,   0],\n",
       "       [ 19,   2, 656,  10, 188,   0, 110,   0,  15,   0],\n",
       "       [ 39,  10,  10, 819,  55,   0,  47,   1,  19,   0],\n",
       "       [  0,   0,  95,  23, 800,   0,  73,   0,   7,   2],\n",
       "       [  0,   0,   1,   0,   0, 894,   0,  60,   7,  38],\n",
       "       [106,   4, 158,  57, 159,   1, 499,   0,  16,   0],\n",
       "       [  0,   0,   0,   0,   0,  31,   0, 936,   0,  33],\n",
       "       [  4,   1,  38,  15,   8,  12,   9,   5, 906,   2],\n",
       "       [  0,   0,   1,   0,   2,  15,   0,  51,   1, 930]])"
      ]
     },
     "execution_count": 57,
     "metadata": {},
     "output_type": "execute_result"
    }
   ],
   "source": [
    "# lets see what the confusion matrix looks like without the function:\n",
    "from sklearn.metrics import confusion_matrix\n",
    "confusion_matrix(y_true = test_labels, \n",
    "                 y_pred = y_preds)"
   ]
  },
  {
   "cell_type": "code",
   "execution_count": 64,
   "metadata": {},
   "outputs": [
    {
     "data": {
      "image/png": "[encoded data removed]",
      "text/plain": [
       "<Figure size 864x864 with 2 Axes>"
      ]
     },
     "metadata": {
      "needs_background": "light"
     },
     "output_type": "display_data"
    }
   ],
   "source": [
    "draw_confusion_matrix(y_true = test_labels, y_preds = y_preds, classes = class_names, figsize = (12,12), text_size = 10 )"
   ]
  }
 ],
 "metadata": {
  "kernelspec": {
   "display_name": "Python 3.9.13 ('base')",
   "language": "python",
   "name": "python3"
  },
  "language_info": {
   "name": "python",
   "version": "3.9.13"
  },
  "orig_nbformat": 4,
  "vscode": {
   "interpreter": {
    "hash": "c1ed3d0d51d0d9fc84e9feca67a2c96385eab8afcf16092b40709d9c6021dc22"
   }
  }
 },
 "nbformat": 4,
 "nbformat_minor": 2
}
